{
 "cells": [
  {
   "cell_type": "markdown",
   "metadata": {},
   "source": [
    "# TensorFlow\n",
    "\n",
    "Neste notebook vamos mostrar algumas operções básicas do TensorFlow. Leia atentamente cada uma das células abaixo e execute as células para ver o que elas estão fazendo."
   ]
  },
  {
   "cell_type": "code",
   "execution_count": 2,
   "metadata": {},
   "outputs": [],
   "source": [
    "import numpy as np\n",
    "import tensorflow as tf"
   ]
  },
  {
   "cell_type": "code",
   "execution_count": 6,
   "metadata": {},
   "outputs": [],
   "source": [
    "## declara uma variável w, inicializada com 0, como float 32 bits\n",
    "w=tf.Variable(0,dtype=tf.float32)\n",
    "## declara uma função que será usada no grafo de computação do tensorflow\n",
    "custo=tf.add(tf.add((w**2), tf.multiply(-10.0,w)),25.0)\n",
    "## note que o tensorflow faz uma sobrecarga dos operadores aritméticos e a função acima poderia ter sido definida como:\n",
    "## w**2-10*w+25\n",
    "## Define o otimizador do gradiente descendente com um intervalo de 0.01 para a função custo\n",
    "treino=tf.train.GradientDescentOptimizer(0.01).minimize(custo)"
   ]
  },
  {
   "cell_type": "markdown",
   "metadata": {},
   "source": [
    "Note que até o momento nada foi executado, as declarações da célula acima simplesmente definem o que o tensor flow irá fazer. O Gradiente Descendente deve minimizar a função custo, que é definida como $(w - 5)^2$, logo, espera-se que o resultado desta otimização seja um valor próximo a 5."
   ]
  },
  {
   "cell_type": "code",
   "execution_count": 8,
   "metadata": {},
   "outputs": [
    {
     "name": "stdout",
     "output_type": "stream",
     "text": [
      "0.0\n"
     ]
    }
   ],
   "source": [
    "## a linha abaixo declara a inicialização de todas as variáveis declaradas até o momento.\n",
    "init=tf.global_variables_initializer()\n",
    "## cria um sessão do tensorflow\n",
    "session=tf.Session()\n",
    "## executa a sessão para inicializar as variáveis\n",
    "session.run(init)\n",
    "## imprime o valor de w após a inicialização da sessão - valor esperado é 0, valor da inicialização\n",
    "print(session.run(w))"
   ]
  },
  {
   "cell_type": "code",
   "execution_count": 9,
   "metadata": {},
   "outputs": [
    {
     "name": "stdout",
     "output_type": "stream",
     "text": [
      "4.9999886\n"
     ]
    }
   ],
   "source": [
    "## executando uma otimização utilizando o gradiente descendente\n",
    "for i in range(1000):\n",
    "    session.run(treino)\n",
    "print(session.run(w))"
   ]
  },
  {
   "cell_type": "markdown",
   "metadata": {},
   "source": [
    "O valor obtido é bem próximo de 5, que é o valor ótimo desta função. \n",
    "No caso acima a função de custoé fixa, porém, podemos utilizar argumentos em uma função, como os exemplos de um conjunto de treinamento. A célula abaixo mostra este processo utiliando o tensorflow."
   ]
  },
  {
   "cell_type": "code",
   "execution_count": 11,
   "metadata": {},
   "outputs": [
    {
     "name": "stdout",
     "output_type": "stream",
     "text": [
      "4.9999886\n"
     ]
    }
   ],
   "source": [
    "## declara um conjunto de coeficientes\n",
    "coeficientes = np.array([[1.], [-10.], [25.]])\n",
    "## declara a variável w\n",
    "w=tf.Variable(0, dtype=tf.float32)\n",
    "## cria um argumento (placeholder) para a função\n",
    "x=tf.placeholder(tf.float32, [3,1])\n",
    "## define a função de custo utilizando o argumento x\n",
    "custo=x[0][0]*w**2 + x[1][0]*w + x[2][0]\n",
    "## define o otimizador\n",
    "treino=tf.train.GradientDescentOptimizer(0.01).minimize(custo)\n",
    "init=tf.global_variables_initializer()\n",
    "session=tf.Session()\n",
    "session.run(init)\n",
    "for i in range(1000):\n",
    "    ## passa os argumentos para a função de custo neste momento utilizando o feed_dict\n",
    "    session.run(treino, feed_dict={x:coeficientes})\n",
    "print(session.run(w))"
   ]
  },
  {
   "cell_type": "markdown",
   "metadata": {},
   "source": [
    "Na célula acima, modifique os coeficientes para 1, -20 e 100, $(w - 10)^2$ e execute a célula novamente. O valor esperado é 10 neste segundo caso."
   ]
  },
  {
   "cell_type": "code",
   "execution_count": null,
   "metadata": {},
   "outputs": [],
   "source": []
  }
 ],
 "metadata": {
  "kernelspec": {
   "display_name": "Python 3",
   "language": "python",
   "name": "python3"
  },
  "language_info": {
   "codemirror_mode": {
    "name": "ipython",
    "version": 3
   },
   "file_extension": ".py",
   "mimetype": "text/x-python",
   "name": "python",
   "nbconvert_exporter": "python",
   "pygments_lexer": "ipython3",
   "version": "3.6.5"
  }
 },
 "nbformat": 4,
 "nbformat_minor": 2
}
