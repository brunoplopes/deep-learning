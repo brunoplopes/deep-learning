{
 "cells": [
  {
   "cell_type": "markdown",
   "metadata": {},
   "source": [
    "# Métodos de Otimização\n",
    "\n",
    "Até o momento apenas o algoritmo de Gradiente Descendente foi utilizado para fazer a atualização dos parâmetros e minimização de custos. Neste notebook iremos estudar métodos de otimização mais avançados que podem acelerar o processo de aprendizado e capaz de obter um valor melhor para a função de custo. O uso de um bom algoritmo de otimização pode fazer a diferença entre esperar dias vs. algumas horas para se obter um bom resultado.  \n",
    "\n",
    "Gradiente descendente vai \"morro abaixo\" na função de custo $J$. Considere que o algoritmo está tentando fazer o seguinte: \n",
    "<img src=\"images/cost.jpg\" style=\"width:650px;height:300px;\">\n",
    "<caption><center> <u> **Figura 1** </u>: **Minimizando o custo é como encontrar o ponto mais baixo em uma superfície**<br> Em cada etapa de treinamento você atualiza os parâmetros seguindo uma certa direção e tentando chegar ao ponto mais baixo na superfície. </center></caption>\n",
    "\n",
    "**Notação**: Como sempre, $\\frac{\\partial J}{\\partial a } = $ `da` para a variável `a`.\n",
    "\n",
    "Para iniciar, execute o bloco abaixo para carregar as bibliotecas e arquivos necessários para este notebook. "
   ]
  },
  {
   "cell_type": "code",
   "execution_count": 1,
   "metadata": {},
   "outputs": [
    {
     "name": "stderr",
     "output_type": "stream",
     "text": [
      "/anaconda3/lib/python3.6/site-packages/h5py/__init__.py:36: FutureWarning: Conversion of the second argument of issubdtype from `float` to `np.floating` is deprecated. In future, it will be treated as `np.float64 == np.dtype(float).type`.\n",
      "  from ._conv import register_converters as _register_converters\n"
     ]
    }
   ],
   "source": [
    "import numpy as np\n",
    "import matplotlib.pyplot as plt\n",
    "import scipy.io\n",
    "import math\n",
    "import sklearn\n",
    "import sklearn.datasets\n",
    "\n",
    "from opt_utils import load_params_and_grads, initialize_parameters, forward_propagation, backward_propagation\n",
    "from opt_utils import compute_cost, predict, predict_dec, plot_decision_boundary, load_dataset\n",
    "from testCases import *\n",
    "\n",
    "%matplotlib inline\n",
    "plt.rcParams['figure.figsize'] = (7.0, 4.0) # set default size of plots\n",
    "plt.rcParams['image.interpolation'] = 'nearest'\n",
    "plt.rcParams['image.cmap'] = 'gray'"
   ]
  },
  {
   "cell_type": "markdown",
   "metadata": {},
   "source": [
    "## 1 - Gradiente Descendente\n",
    "\n",
    "Um método de otimização simples em aprendizado de máquina é o gradiente descendente (GD). Quando você usa etapas de gradiente com relação a todos os $m$ exemplos em cada etapa, esta técnica é conhecida como Gradiente Descendente em Batch.  \n",
    "\n",
    "**Exercício de aquecimento**: Implemente a regra de atualização do gradiente descendente. A regra do gradiente descendente para $l = 1, ..., L$ é: \n",
    "$$ W^{[l]} = W^{[l]} - \\alpha \\text{ } dW^{[l]} \\tag{1}$$\n",
    "$$ b^{[l]} = b^{[l]} - \\alpha \\text{ } db^{[l]} \\tag{2}$$\n",
    "\n",
    "onde L é o número de camadas e $\\alpha$ é a taxa de aprendizado. Todos os parâmetros devem ser armazenados no dicionário `parameters`. Note que a variável de interação `l` é inicializado com 0 no loop `for` porém os primeiros parâmetros são $W^{[1]}$ e $b^{[1]}$. Você irá precisar fazer um \"shift\" do `l` para `l+1` no código."
   ]
  },
  {
   "cell_type": "code",
   "execution_count": 2,
   "metadata": {},
   "outputs": [],
   "source": [
    "# FUNÇÃO DE AVALIAÇÃO: update_parameters_with_gd\n",
    "\n",
    "def update_parameters_with_gd(parameters, grads, learning_rate):\n",
    "    \"\"\"\n",
    "    Atualiza os parâmetros utilizando uma etapa do gradiente descendente\n",
    "    \n",
    "    Argumentos:\n",
    "    parameters -- dicionário python contendo os parâmetros a serem atualizados:\n",
    "                    parameters['W' + str(l)] = Wl\n",
    "                    parameters['b' + str(l)] = bl\n",
    "    grads -- dicionário python contendo os gradientes para atualizar cada um dos parâmetros:\n",
    "                    grads['dW' + str(l)] = dWl\n",
    "                    grads['db' + str(l)] = dbl\n",
    "    learning_rate -- a taxa de aprendizado, um escalar.\n",
    "    \n",
    "    Retorna:\n",
    "    parameters -- dicionário python contendo os parâmetros atualizados. \n",
    "    \"\"\"\n",
    "\n",
    "    L = len(parameters) // 2 # número de camadas na rede neural\n",
    "\n",
    "    # Regra de atualizaçãopara cada parâmetro\n",
    "    for l in range(L):\n",
    "        ### INICIE SEU CÓDIGO AQUI ### (aprox. 2 linhas)\n",
    "        parameters[\"W\" + str(l+1)] = parameters[\"W\"+str(l+1)]-learning_rate*grads[\"dW\"+str(l+1)]\n",
    "        parameters[\"b\" + str(l+1)] = parameters[\"b\"+str(l+1)]-learning_rate*grads[\"db\"+str(l+1)]\n",
    "        ### TÉRMINO DO CÓDIGO ###\n",
    "        \n",
    "    return parameters"
   ]
  },
  {
   "cell_type": "code",
   "execution_count": 3,
   "metadata": {
    "scrolled": true
   },
   "outputs": [
    {
     "name": "stdout",
     "output_type": "stream",
     "text": [
      "W1 = [[ 1.63535156 -0.62320365 -0.53718766]\n",
      " [-1.07799357  0.85639907 -2.29470142]]\n",
      "b1 = [[ 1.74604067]\n",
      " [-0.75184921]]\n",
      "W2 = [[ 0.32171798 -0.25467393  1.46902454]\n",
      " [-2.05617317 -0.31554548 -0.3756023 ]\n",
      " [ 1.1404819  -1.09976462 -0.1612551 ]]\n",
      "b2 = [[-0.88020257]\n",
      " [ 0.02561572]\n",
      " [ 0.57539477]]\n"
     ]
    }
   ],
   "source": [
    "parameters, grads, learning_rate = update_parameters_with_gd_test_case()\n",
    "\n",
    "parameters = update_parameters_with_gd(parameters, grads, learning_rate)\n",
    "print(\"W1 = \" + str(parameters[\"W1\"]))\n",
    "print(\"b1 = \" + str(parameters[\"b1\"]))\n",
    "print(\"W2 = \" + str(parameters[\"W2\"]))\n",
    "print(\"b2 = \" + str(parameters[\"b2\"]))"
   ]
  },
  {
   "cell_type": "markdown",
   "metadata": {},
   "source": [
    "**Saída esperada**:\n",
    "\n",
    "<table> \n",
    "    <tr>\n",
    "    <td > **W1** </td> \n",
    "           <td > [[ 1.63535156 -0.62320365 -0.53718766]\n",
    " [-1.07799357  0.85639907 -2.29470142]] </td> \n",
    "    </tr> \n",
    "    \n",
    "    <tr>\n",
    "    <td > **b1** </td> \n",
    "           <td > [[ 1.74604067]\n",
    " [-0.75184921]] </td> \n",
    "    </tr> \n",
    "    \n",
    "    <tr>\n",
    "    <td > **W2** </td> \n",
    "           <td > [[ 0.32171798 -0.25467393  1.46902454]\n",
    " [-2.05617317 -0.31554548 -0.3756023 ]\n",
    " [ 1.1404819  -1.09976462 -0.1612551 ]] </td> \n",
    "    </tr> \n",
    "    \n",
    "    <tr>\n",
    "    <td > **b2** </td> \n",
    "           <td > [[-0.88020257]\n",
    " [ 0.02561572]\n",
    " [ 0.57539477]] </td> \n",
    "    </tr> \n",
    "</table>\n"
   ]
  },
  {
   "cell_type": "markdown",
   "metadata": {},
   "source": [
    "Uma variação deste processo é o gradiente descendente estocástico (GDE), que é equivalente ao gradiente descendente com um mini-batch com apenas um exemplo. A regra de atualização que você acabou de implementar não é alterada. O que modifica é que você irá computar os gradientes para cada exemplo em vez de considerar todo o conjunto de treinamento. Os exemplos de código abaixo ilustram a diferença entre o gradiente descendente estocástico e o gradiente descendente em batch.  \n",
    "\n",
    "- **Gradiente Descendente em Batch**:\n",
    "\n",
    "``` python\n",
    "X = data_input\n",
    "Y = labels\n",
    "parameters = initialize_parameters(layers_dims)\n",
    "for i in range(0, num_iterations):\n",
    "    # Propagação para frente.\n",
    "    a, caches = forward_propagation(X, parameters)\n",
    "    # Computar o custo.\n",
    "    cost = compute_cost(a, Y)\n",
    "    # Propagação para trás.\n",
    "    grads = backward_propagation(a, caches, parameters)\n",
    "    # Atualiza os parâmetros.\n",
    "    parameters = update_parameters(parameters, grads)\n",
    "        \n",
    "```\n",
    "\n",
    "- **Gradiente Descendente Estocástico**:\n",
    "\n",
    "```python\n",
    "X = data_input\n",
    "Y = labels\n",
    "parameters = initialize_parameters(layers_dims)\n",
    "for i in range(0, num_iterations):\n",
    "    for j in range(0, m):\n",
    "        # Propagação para frente\n",
    "        a, caches = forward_propagation(X[:,j], parameters)\n",
    "        # Computar o custo\n",
    "        cost = compute_cost(a, Y[:,j])\n",
    "        # Propagação para trás\n",
    "        grads = backward_propagation(a, caches, parameters)\n",
    "        # Atualiza os parâmetros\n",
    "        parameters = update_parameters(parameters, grads)\n",
    "```\n"
   ]
  },
  {
   "cell_type": "markdown",
   "metadata": {},
   "source": [
    "No Gradiente Descendente Estocástico utiliza-se apenas um exemplo de treinamento para atualizar os gradientes. Quando o conjunto de treinamento é grande GDE pode ser rápido. Mas os parâmetros oscilarão na direção do mínimo em vez de convergirem de forma mais suave. Aqui está uma ilustração deste fato: \n",
    "\n",
    "<img src=\"images/kiank_sgd.png\" style=\"width:750px;height:250px;\">\n",
    "<caption><center> <u> <font color='purple'> **Figura 2** </u><font color='purple'>  : **GDE vs GD**<br> \"+\" inidica o mínimo do custo. GDE executa várias oscilações para convergir. Porém, cada etapa é rápida no GDE pois ele utiliza apenas um exemplo para fazer a atualização. Já o GD se aproxima do mínimo de forma mais suave, fazendo as atualizações após uma passagem pelo conjunto de treinamento.  </center></caption>\n",
    "\n",
    "**Nota** a implementação do GDE requer 3 loops no total:\n",
    "1. Sobre o número de interações\n",
    "2. Sobre cada um dos $m$ exemplos de treinamento\n",
    "3. Sobre cada camada (para atualizar todos os parâmetros, de $(W^{[1]},b^{[1]})$ até $(W^{[L]},b^{[L]})$)\n",
    "\n",
    "Na prática, você obtém resultados mais rápidos se utilizar  grupos entre um exemplo e $m$ exemplos para fazer as atualizações. O gradiente descendente em mini-batch faz exatamente isto. No gradiente descendente em mini-batch é executado um loop sobre todos os mini-batches ao invés de exemplos individuais.\n",
    "\n",
    "<img src=\"images/kiank_minibatch.png\" style=\"width:750px;height:250px;\">\n",
    "<caption><center> <u> <font color='purple'> **Figura 3** </u>: <font color='purple'>  **GDE vs GD em Mini-Batch**<br> \"+\" inidica o custo mínimo. Utilizando mini-batches no algoritmo de otimização frequentemente leva a otimizações mais rápidas.   </center></caption>\n",
    "\n",
    "<font color='blue'>\n",
    "**O que você deve lembrar**:\n",
    "- A diferença entre o gradiente descendente, o gradiente descendente em mini-batch e o gradiente descendente estocástico é o número de exemplos utilizados para fazer a atualização dos parâmetros. \n",
    "- Você deve ajustar o hiper parâmetro da taxa de aprendizado $\\alpha$.\n",
    "- Com um tamanho de mini-batch bem ajustado, o gradiente descendente com mini-batch apresenta um melhor resultado que o gradiente descendente estocástico e o gradiente descendente em batch (particularmente quando o conjunto de treinamento é grande). "
   ]
  },
  {
   "cell_type": "markdown",
   "metadata": {},
   "source": [
    "## 2 - Gradiente Descendente em Mini-Batch\n",
    "\n",
    "Vamos ver como construir mini-batches a partir de um conjunto de exemplos de treinamento (X, Y).\n",
    "\n",
    "Existem duas etapas:\n",
    "- **Misturar**: Criar uma versão misturada (embaralhada) do conjunto de treinamento (X, Y) como mostrado abaixo. Cada coluna de X e Y representam um exemplo de treinamento. Note que uma mistura aleatória é feita entre X e Y de forma sincronizada. De forma que, após a mistura, o $i^{ésimo}$ exemplo em X, corresponde ao $i^{ésima}$ saída em Y. O embaralhamento assegura que os exemplos serão divididos aleatoriamente em mini-batches.  \n",
    "\n",
    "<img src=\"images/kiank_shuffle.png\" style=\"width:550px;height:300px;\">\n",
    "\n",
    "- **Partição**: Particionar o conjunto de exemplos misturados (X, Y) em mini-batches do tamanho `mini_batch_size` (aqui igual a 64). Note que o número de exemplos de treinamento nem sempre é divisível por `mini_batch_size` e o último mini-batch pode então ter menos exemplos, e vai parecer assim:  \n",
    "\n",
    "<img src=\"images/kiank_partition.png\" style=\"width:550px;height:300px;\">\n",
    "\n",
    "**Exercício**: Implemente `random_mini_batches`. A parte de misturar os exemplos já está pronta. Para ajudá-lo na partição é fornecido o código que seleciona os indíces para o $1^{o}$ e o $2^{o}$ mini-batches:\n",
    "```python\n",
    "first_mini_batch_X = shuffled_X[:, 0 : mini_batch_size]\n",
    "second_mini_batch_X = shuffled_X[:, mini_batch_size : 2 * mini_batch_size]\n",
    "...\n",
    "```\n",
    "\n",
    "Note que o último mini-batch pode ser menor que 64. $\\lfloor s \\rfloor$ representa $s$ arredondado para o inteiro mais próximo  (isto é `math.floor(s)` em Python). Se o número total de exemplos não é um multiplo de `mini_batch_size` então haverá $\\lfloor \\frac{m}{mini\\_batch\\_size}\\rfloor$ mini-batches com `mini_batch_size` exemplos, e o número de exemplos no último mini-batch será ($m-mini_\\_batch_\\_size \\times \\lfloor \\frac{m}{mini\\_batch\\_size}\\rfloor$). "
   ]
  },
  {
   "cell_type": "code",
   "execution_count": 4,
   "metadata": {},
   "outputs": [],
   "source": [
    "# FUNÇÃO DE AVALIAÇÃO: random_mini_batches\n",
    "\n",
    "def random_mini_batches(X, Y, mini_batch_size = 64, seed = 0):\n",
    "    \"\"\"\n",
    "    Cria uma lista de mini-batches aleatórios do conjunot de treinamento (X, Y)\n",
    "    \n",
    "    Argumentos:\n",
    "    X -- conjunto de entrada no formato (nx, m)\n",
    "    Y -- vetor de saída (1 para pontos azuis / 0 para pontos vermmelhos), no formato (1, m)\n",
    "    mini_batch_size --tamanho do mini-batch, um número inteiro\n",
    "    \n",
    "    Returna:\n",
    "    mini_batches -- lista sincronizada de mini-batches (mini_batch_X, mini_batch_Y)\n",
    "    \"\"\"\n",
    "    \n",
    "    np.random.seed(seed)            # ajusta o gerador de números aleatórios - não modifique o valor da seed\n",
    "    m = X.shape[1]                  # número de exemplos no conjunto de treinamento\n",
    "    mini_batches = []\n",
    "        \n",
    "    # Step 1: mistura (X, Y)\n",
    "    permutation = list(np.random.permutation(m))\n",
    "    shuffled_X = X[:, permutation]\n",
    "    shuffled_Y = Y[:, permutation].reshape((1,m))\n",
    "\n",
    "    # Step 2: Partição (shuffled_X, shuffled_Y). Menos o mini-batch final.\n",
    "    num_complete_minibatches = math.floor(m/mini_batch_size) # número de mini batches de tamanho mini_batch_size \n",
    "    for k in range(0, num_complete_minibatches):\n",
    "        ### INICIE O CÓDIGO AQUI ### (aprox. 2 linhas)\n",
    "        mini_batch_X = shuffled_X[:,k*mini_batch_size:(k+1)*mini_batch_size]\n",
    "        mini_batch_Y = shuffled_Y[:,k*mini_batch_size:(k+1)*mini_batch_size]\n",
    "        ### TÉRMINO DO CÓDIGO ###\n",
    "        mini_batch = (mini_batch_X, mini_batch_Y)\n",
    "        mini_batches.append(mini_batch)\n",
    "    \n",
    "    # ajustando o último mini-batch (último mini-batch < mini_batch_size)\n",
    "    if m % mini_batch_size != 0:\n",
    "        ### INICIE O CÓDIGO AQUI ### (aprox. 2 linhas)\n",
    "        mini_batch_X = shuffled_X[:,num_complete_minibatches*mini_batch_size:m]\n",
    "        mini_batch_Y = shuffled_Y[:,num_complete_minibatches*mini_batch_size:m]\n",
    "        ### TÉRMINO DO CÓDIGO ###\n",
    "        mini_batch = (mini_batch_X, mini_batch_Y)\n",
    "        mini_batches.append(mini_batch)\n",
    "    \n",
    "    return mini_batches"
   ]
  },
  {
   "cell_type": "code",
   "execution_count": 5,
   "metadata": {},
   "outputs": [
    {
     "name": "stdout",
     "output_type": "stream",
     "text": [
      "formato do 1o mini_batch_X: (12288, 64)\n",
      "formato do 2o mini_batch_X: (12288, 64)\n",
      "formato do 3o mini_batch_X: (12288, 20)\n",
      "formato do 1o mini_batch_Y: (1, 64)\n",
      "formato do 2o mini_batch_Y: (1, 64)\n",
      "formato do 3o mini_batch_Y: (1, 20)\n",
      "verificação do mini-batch: [ 0.90085595 -0.7612069   0.2344157 ]\n"
     ]
    }
   ],
   "source": [
    "X_assess, Y_assess, mini_batch_size = random_mini_batches_test_case()\n",
    "mini_batches = random_mini_batches(X_assess, Y_assess, mini_batch_size)\n",
    "\n",
    "print (\"formato do 1o mini_batch_X: \" + str(mini_batches[0][0].shape))\n",
    "print (\"formato do 2o mini_batch_X: \" + str(mini_batches[1][0].shape))\n",
    "print (\"formato do 3o mini_batch_X: \" + str(mini_batches[2][0].shape))\n",
    "print (\"formato do 1o mini_batch_Y: \" + str(mini_batches[0][1].shape))\n",
    "print (\"formato do 2o mini_batch_Y: \" + str(mini_batches[1][1].shape)) \n",
    "print (\"formato do 3o mini_batch_Y: \" + str(mini_batches[2][1].shape))\n",
    "print (\"verificação do mini-batch: \" + str(mini_batches[0][0][0][0:3]))"
   ]
  },
  {
   "cell_type": "markdown",
   "metadata": {},
   "source": [
    "**Saída esperada**:\n",
    "\n",
    "<table style=\"width:50%\"> \n",
    "    <tr>\n",
    "    <td > **formato do 1o mini_batch_X** </td> \n",
    "           <td > (12288, 64) </td> \n",
    "    </tr> \n",
    "    \n",
    "    <tr>\n",
    "    <td > **formato do 2o mini_batch_X** </td> \n",
    "           <td > (12288, 64) </td> \n",
    "    </tr> \n",
    "    \n",
    "    <tr>\n",
    "    <td > **formato do 3o mini_batch_X** </td> \n",
    "           <td > (12288, 20) </td> \n",
    "    </tr>\n",
    "    <tr>\n",
    "    <td > **formato do 1o mini_batch_Y** </td> \n",
    "           <td > (1, 64) </td> \n",
    "    </tr> \n",
    "    <tr>\n",
    "    <td > **formato do 2o mini_batch_Y** </td> \n",
    "           <td > (1, 64) </td> \n",
    "    </tr> \n",
    "    <tr>\n",
    "    <td > **formato do 3o mini_batch_Y** </td> \n",
    "           <td > (1, 20) </td> \n",
    "    </tr> \n",
    "    <tr>\n",
    "    <td > **verificação do mini-batch** </td> \n",
    "           <td > [ 0.90085595 -0.7612069   0.2344157 ] </td> \n",
    "    </tr>\n",
    "    \n",
    "</table>"
   ]
  },
  {
   "cell_type": "markdown",
   "metadata": {},
   "source": [
    "<font color='blue'>\n",
    "**O que você deve lembrar**:\n",
    "- Misturar e Particionar são duas etapas requeridas para construir os mini-batches.\n",
    "- Valores de potência de 2 são geralmente os tamanhos de mini-batches utilizados: 16, 32, 64, 128."
   ]
  },
  {
   "cell_type": "markdown",
   "metadata": {},
   "source": [
    "## 3 - Momento\n",
    "\n",
    "Devido ao fato do gradiente descendente atualizar os parâmetros após \"olhar\" apenas um subconjunto de exemplos, a direção de atualização possui alguma variância e o caminho percorrido pelo gradiente descendente usando mini-batch deverá oscilar na direção de convergência. O uso de momento pode reduzir esta escilação.  \n",
    "\n",
    "Momento leva em conta os últimos valores de gradientes para suavizar o processo de atualização. Iremos armazenar a direção dos gradientes anteriores na variável $v$. Formalmente, esta variável será a média ponderada exponencial dos gradientes das etapas anteriores. Você pode pensar em $v$ como a velocidade de uma bola rolando morro abaixo, adquirindo velocidade e momento de acordo com a direção do gradiente e inclinação da superfície.  \n",
    "\n",
    "<img src=\"images/opt_momentum.png\" style=\"width:400px;height:250px;\">\n",
    "<caption><center> <u><font color='purple'>**Figure 4**</u><font color='purple'>: As setas vermelhas indicam a direção tomada em uma etapa do gradiente descendente com mini-batch e momento. Os pontos azuis mostram a direção do gradiente (com relação ao mini-batch atual) em cada etapa. Ao invés de simplesmente seguir o gradiente, a influência de $v$ faz com que seja tomado um passo na direção de $v$.<br> <font color='black'> </center>\n",
    "\n",
    "\n",
    "**Exercício**: Inicialize a velocidade. A velocidade $v$ é um dicionário em python que precisa ser inicializado com arrays de zeros. As chaves são as mesmas que estão no dicionário `grads`, isto é:\n",
    "for $l =1,...,L$:\n",
    "```python\n",
    "v[\"dW\" + str(l+1)] = ... #(array numpy de zeros com o mesmo formato dos parâmetros [\"W\" + str(l+1)])\n",
    "v[\"db\" + str(l+1)] = ... #(array numpy de zeros com o mesmo formato dos parâmetros[\"b\" + str(l+1)])\n",
    "```\n",
    "**Nota** como já falado, a variável de interação l é inicializada com 0 para o loop 'for', porém, os primeiros parâmetros são v[\"dW1\"] e v[\"db1\"] (possuem índice 1). por isso fazemos um shift do l para l+1 no loop `for`."
   ]
  },
  {
   "cell_type": "code",
   "execution_count": 6,
   "metadata": {},
   "outputs": [],
   "source": [
    "# FUNÇÃO DE VELOCIDADE: initialize_velocity\n",
    "\n",
    "def initialize_velocity(parameters):\n",
    "    \"\"\"\n",
    "    Inicializa a velocidade como um dicionário python com:\n",
    "                - chaves: \"dW1\", \"db1\", ..., \"dWL\", \"dbL\" \n",
    "                - valores: arrays numpy de zeros no mesmo formato que os gradientes/parâmetros correspondentes.\n",
    "    Argumentos:\n",
    "    parameters -- dicionário python contendo os parâmetros.\n",
    "                    parameters['W' + str(l)] = Wl\n",
    "                    parameters['b' + str(l)] = bl\n",
    "    \n",
    "    Retorna:\n",
    "    v -- dicionário python contendo a velocidade atual.\n",
    "                    v['dW' + str(l)] = velocidade de dWl\n",
    "                    v['db' + str(l)] = velocidade de dbl\n",
    "    \"\"\"\n",
    "    \n",
    "    L = len(parameters) // 2 # número de camadas na rede neural\n",
    "    v = {}\n",
    "    \n",
    "    # Inicializa a velocidade\n",
    "    for l in range(L):\n",
    "        ### INICIE O CÓDIGO AQUI ### (aprox. 2 linhas)\n",
    "        v[\"dW\" + str(l+1)] = np.zeros((parameters[\"W\"+str(l+1)].shape[0], parameters[\"W\"+str(l+1)].shape[1]))\n",
    "        v[\"db\" + str(l+1)] = np.zeros((parameters[\"b\"+str(l+1)].shape[0], parameters[\"b\"+str(l+1)].shape[1]))\n",
    "        ### TÉRMINO DO CÓDIGO ###\n",
    "        \n",
    "    return v"
   ]
  },
  {
   "cell_type": "code",
   "execution_count": 7,
   "metadata": {},
   "outputs": [
    {
     "name": "stdout",
     "output_type": "stream",
     "text": [
      "v[\"dW1\"] = [[0. 0. 0.]\n",
      " [0. 0. 0.]]\n",
      "v[\"db1\"] = [[0.]\n",
      " [0.]]\n",
      "v[\"dW2\"] = [[0. 0. 0.]\n",
      " [0. 0. 0.]\n",
      " [0. 0. 0.]]\n",
      "v[\"db2\"] = [[0.]\n",
      " [0.]\n",
      " [0.]]\n"
     ]
    }
   ],
   "source": [
    "parameters = initialize_velocity_test_case()\n",
    "\n",
    "v = initialize_velocity(parameters)\n",
    "print(\"v[\\\"dW1\\\"] = \" + str(v[\"dW1\"]))\n",
    "print(\"v[\\\"db1\\\"] = \" + str(v[\"db1\"]))\n",
    "print(\"v[\\\"dW2\\\"] = \" + str(v[\"dW2\"]))\n",
    "print(\"v[\\\"db2\\\"] = \" + str(v[\"db2\"]))"
   ]
  },
  {
   "cell_type": "markdown",
   "metadata": {},
   "source": [
    "**saída esperada**:\n",
    "\n",
    "<table style=\"width:40%\"> \n",
    "    <tr>\n",
    "    <td > **v[\"dW1\"]** </td> \n",
    "           <td > [[ 0.  0.  0.]\n",
    " [ 0.  0.  0.]] </td> \n",
    "    </tr> \n",
    "    \n",
    "    <tr>\n",
    "    <td > **v[\"db1\"]** </td> \n",
    "           <td > [[ 0.]\n",
    " [ 0.]] </td> \n",
    "    </tr> \n",
    "    \n",
    "    <tr>\n",
    "    <td > **v[\"dW2\"]** </td> \n",
    "           <td > [[ 0.  0.  0.]\n",
    " [ 0.  0.  0.]\n",
    " [ 0.  0.  0.]] </td> \n",
    "    </tr> \n",
    "    \n",
    "    <tr>\n",
    "    <td > **v[\"db2\"]** </td> \n",
    "           <td > [[ 0.]\n",
    " [ 0.]\n",
    " [ 0.]] </td> \n",
    "    </tr> \n",
    "</table>\n"
   ]
  },
  {
   "cell_type": "markdown",
   "metadata": {},
   "source": [
    "**Exercício**:  Agora, implemente a atualização de parâmetros com momento. A regra de atualização de momento é, for $l = 1, ..., L$: \n",
    "\n",
    "$$ \\begin{cases}\n",
    "v_{dW^{[l]}} = \\beta v_{dW^{[l]}} + (1 - \\beta) dW^{[l]} \\\\\n",
    "W^{[l]} = W^{[l]} - \\alpha v_{dW^{[l]}}\n",
    "\\end{cases}\\tag{3}$$\n",
    "\n",
    "$$\\begin{cases}\n",
    "v_{db^{[l]}} = \\beta v_{db^{[l]}} + (1 - \\beta) db^{[l]} \\\\\n",
    "b^{[l]} = b^{[l]} - \\alpha v_{db^{[l]}} \n",
    "\\end{cases}\\tag{4}$$\n",
    "\n",
    "onde L é o número de camadas, $\\beta$ é o momento e $\\alpha$ é a taxa de aprendizado. Todos os parâmetros devem ser atualizados no dicionário `parameters`.  Note que a variável de interação `l` inicializa com 0 no loop `for` enquanto os primeiros parâmetros são $W^{[1]}$ e $b^{[1]}$. Logo você precisa fazer um shift de `l` para `l+1` no código."
   ]
  },
  {
   "cell_type": "code",
   "execution_count": 8,
   "metadata": {},
   "outputs": [],
   "source": [
    "# FUNÇÃO DE AVALIAÇÃO: update_parameters_with_momentum\n",
    "\n",
    "def update_parameters_with_momentum(parameters, grads, v, beta, learning_rate):\n",
    "    \"\"\"\n",
    "    Atualiza os parâmetros utilizando momento\n",
    "    \n",
    "    Argumentos:\n",
    "    parameters -- dicionário python contendo os parâmetros:\n",
    "                    parameters['W' + str(l)] = Wl\n",
    "                    parameters['b' + str(l)] = bl\n",
    "    grads -- dicionário python contendo os gradientes para cada parâmetro:\n",
    "                    grads['dW' + str(l)] = dWl\n",
    "                    grads['db' + str(l)] = dbl\n",
    "    v -- dicionário python contendo a velocidade atual:\n",
    "                    v['dW' + str(l)] = ...\n",
    "                    v['db' + str(l)] = ...\n",
    "    beta -- o hiper parâmetro de momento, um escalar\n",
    "    learning_rate -- a taxa de aprendizado, um scalar\n",
    "    \n",
    "    Retorna:\n",
    "    parameters -- dicionário python contendo os parâmetros atualizado \n",
    "    v -- dicionário python contendo as velocidades atualizadas\n",
    "    \"\"\"\n",
    "\n",
    "    L = len(parameters) // 2 # número de camadas na rede neural\n",
    "    \n",
    "    # Atualização de momento para cada parâmetro\n",
    "    for l in range(L):\n",
    "        \n",
    "        ### INICIE O SEU CÓDIGO AQUI ### (aprox. 4 linhas)\n",
    "        # determina as velocidades\n",
    "        v[\"dW\" + str(l+1)] = beta*v[\"dW\"+str(l+1)]+(1-beta)*grads[\"dW\"+str(l+1)]\n",
    "        v[\"db\" + str(l+1)] = beta*v[\"db\"+str(l+1)]+(1-beta)*grads[\"db\"+str(l+1)]\n",
    "        # atualiza os parâmetros\n",
    "        parameters[\"W\" + str(l+1)] = parameters[\"W\"+str(l+1)]-learning_rate*v[\"dW\"+str(l+1)]\n",
    "        parameters[\"b\" + str(l+1)] = parameters[\"b\"+str(l+1)]-learning_rate*v[\"db\"+str(l+1)]\n",
    "        ### TÉRMINO DO CÓDIGO ###\n",
    "        \n",
    "    return parameters, v"
   ]
  },
  {
   "cell_type": "code",
   "execution_count": 9,
   "metadata": {},
   "outputs": [
    {
     "name": "stdout",
     "output_type": "stream",
     "text": [
      "W1 = [[ 1.62544598 -0.61290114 -0.52907334]\n",
      " [-1.07347112  0.86450677 -2.30085497]]\n",
      "b1 = [[ 1.74493465]\n",
      " [-0.76027113]]\n",
      "W2 = [[ 0.31930698 -0.24990073  1.4627996 ]\n",
      " [-2.05974396 -0.32173003 -0.38320915]\n",
      " [ 1.13444069 -1.0998786  -0.1713109 ]]\n",
      "b2 = [[-0.87809283]\n",
      " [ 0.04055394]\n",
      " [ 0.58207317]]\n",
      "v[\"dW1\"] = [[-0.11006192  0.11447237  0.09015907]\n",
      " [ 0.05024943  0.09008559 -0.06837279]]\n",
      "v[\"db1\"] = [[-0.01228902]\n",
      " [-0.09357694]]\n",
      "v[\"dW2\"] = [[-0.02678881  0.05303555 -0.06916608]\n",
      " [-0.03967535 -0.06871727 -0.08452056]\n",
      " [-0.06712461 -0.00126646 -0.11173103]]\n",
      "v[\"db2\"] = [[0.02344157]\n",
      " [0.16598022]\n",
      " [0.07420442]]\n"
     ]
    }
   ],
   "source": [
    "parameters, grads, v = update_parameters_with_momentum_test_case()\n",
    "\n",
    "parameters, v = update_parameters_with_momentum(parameters, grads, v, beta = 0.9, learning_rate = 0.01)\n",
    "print(\"W1 = \" + str(parameters[\"W1\"]))\n",
    "print(\"b1 = \" + str(parameters[\"b1\"]))\n",
    "print(\"W2 = \" + str(parameters[\"W2\"]))\n",
    "print(\"b2 = \" + str(parameters[\"b2\"]))\n",
    "print(\"v[\\\"dW1\\\"] = \" + str(v[\"dW1\"]))\n",
    "print(\"v[\\\"db1\\\"] = \" + str(v[\"db1\"]))\n",
    "print(\"v[\\\"dW2\\\"] = \" + str(v[\"dW2\"]))\n",
    "print(\"v[\\\"db2\\\"] = \" + str(v[\"db2\"]))"
   ]
  },
  {
   "cell_type": "markdown",
   "metadata": {},
   "source": [
    "**Saída esperada**:\n",
    "\n",
    "<table style=\"width:90%\"> \n",
    "    <tr>\n",
    "    <td > **W1** </td> \n",
    "           <td > [[ 1.62544598 -0.61290114 -0.52907334]\n",
    " [-1.07347112  0.86450677 -2.30085497]] </td> \n",
    "    </tr> \n",
    "    \n",
    "    <tr>\n",
    "    <td > **b1** </td> \n",
    "           <td > [[ 1.74493465]\n",
    " [-0.76027113]] </td> \n",
    "    </tr> \n",
    "    \n",
    "    <tr>\n",
    "    <td > **W2** </td> \n",
    "           <td > [[ 0.31930698 -0.24990073  1.4627996 ]\n",
    " [-2.05974396 -0.32173003 -0.38320915]\n",
    " [ 1.13444069 -1.0998786  -0.1713109 ]] </td> \n",
    "    </tr> \n",
    "    \n",
    "    <tr>\n",
    "    <td > **b2** </td> \n",
    "           <td > [[-0.87809283]\n",
    " [ 0.04055394]\n",
    " [ 0.58207317]] </td> \n",
    "    </tr> \n",
    "\n",
    "    <tr>\n",
    "    <td > **v[\"dW1\"]** </td> \n",
    "           <td > [[-0.11006192  0.11447237  0.09015907]\n",
    " [ 0.05024943  0.09008559 -0.06837279]] </td> \n",
    "    </tr> \n",
    "    \n",
    "    <tr>\n",
    "    <td > **v[\"db1\"]** </td> \n",
    "           <td > [[-0.01228902]\n",
    " [-0.09357694]] </td> \n",
    "    </tr> \n",
    "    \n",
    "    <tr>\n",
    "    <td > **v[\"dW2\"]** </td> \n",
    "           <td > [[-0.02678881  0.05303555 -0.06916608]\n",
    " [-0.03967535 -0.06871727 -0.08452056]\n",
    " [-0.06712461 -0.00126646 -0.11173103]] </td> \n",
    "    </tr> \n",
    "    \n",
    "    <tr>\n",
    "    <td > **v[\"db2\"]** </td> \n",
    "           <td > [[ 0.02344157]\n",
    " [ 0.16598022]\n",
    " [ 0.07420442]]</td> \n",
    "    </tr> \n",
    "</table>\n",
    "\n"
   ]
  },
  {
   "cell_type": "markdown",
   "metadata": {
    "collapsed": true
   },
   "source": [
    "**Note** que:\n",
    "- A velocidade é inicializada com zeros. O algoritmo faz algumas interações para \"construir\" a velocidade e começa a executar \"pulos\" maiores.\n",
    "- Se $\\beta = 0$, então tem-se o gradiente descendente padrão, sem o momento. \n",
    "\n",
    "**Como escolher o valor de $\\beta$?**\n",
    "\n",
    "- Quanto maior o valor do hiper parâmetro de momento $\\beta$, mais suave é o processo de atualização pois o processo leva em conta mais valores passados. Mas se $\\beta$ for muito grande, ele pode suavizar demais as atualizações.   \n",
    "- Valores comuns para $\\beta$ estão na faixa entre 0.8 e 0.999. Se você não quiser ajustar o valor de $\\beta$, utilizar 0.9 é um bom ponto de partida.  \n",
    "- Ajustando um valor ótimo para $\\beta$ no seu modelo é um processo que requer várias tentativas para ver qual valor funciona melhor para a função de custo $J$. "
   ]
  },
  {
   "cell_type": "markdown",
   "metadata": {},
   "source": [
    "<font color='blue'>\n",
    "**O que você tem que lembrar**:\n",
    "- Momento considera gradientes passados para suavizar as etapas do gradiente descendente. Pode ser aplicado com gradiente descendente em batch, mini-batch ou estocástico.\n",
    "- Você deve ajustar o hyper parâmetro de momento $\\beta$ e a taxa de aprendizado $\\alpha$."
   ]
  },
  {
   "cell_type": "markdown",
   "metadata": {},
   "source": [
    "## 4 - Adam\n",
    "\n",
    "Adam é um dos algoritmos de otimização mais efetivos para treinar redes neurais. Ele combina ideias de RMSprop e Momento. \n",
    "\n",
    "**Como o algoritmo Adam funciona?**\n",
    "1. Ele determina uma média ponderada exponencial de gradientes passados e armazena na variável $v$ (antes da correção de bias) e $v^{corrigido}$ (com a correção de bias). \n",
    "2. Ele determina uma média ponderada exponencialdo quadrado dos gradientes passados e armazena na variável $s$ (antes da correção de bias) e $s^{corrigido}$ (com correção de bias). \n",
    "3. Ele atualiza os parâmetros em uma direção baseado na combinação das informações obtidas em \"1\" e \"2\".\n",
    "\n",
    "A regra de atualização é, for $l = 1, ..., L$: \n",
    "\n",
    "$$\\begin{cases}\n",
    "v_{dW^{[l]}} = \\beta_1 v_{dW^{[l]}} + (1 - \\beta_1) \\frac{\\partial \\mathcal{J} }{ \\partial W^{[l]} } \\\\\n",
    "v^{corrigido}_{dW^{[l]}} = \\frac{v_{dW^{[l]}}}{1 - (\\beta_1)^t} \\\\\n",
    "s_{dW^{[l]}} = \\beta_2 s_{dW^{[l]}} + (1 - \\beta_2) (\\frac{\\partial \\mathcal{J} }{\\partial W^{[l]} })^2 \\\\\n",
    "s^{corrigido}_{dW^{[l]}} = \\frac{s_{dW^{[l]}}}{1 - (\\beta_1)^t} \\\\\n",
    "W^{[l]} = W^{[l]} - \\alpha \\frac{v^{corrigido}_{dW^{[l]}}}{\\sqrt{s^{corrigido}_{dW^{[l]}}} + \\varepsilon}\n",
    "\\end{cases}$$\n",
    "onde:\n",
    "- t conta o número de etapas executadas por Adam \n",
    "- L é o número de camadas\n",
    "- $\\beta_1$ e $\\beta_2$ são hiper parâmetros que controlam as médias ponderadas exponenciais. \n",
    "- $\\alpha$ é a taxa de aprendizado.\n",
    "- $\\varepsilon$ é um valor pequeno para evitar divisão por zero.\n",
    "\n",
    "Como sempre, os parâmetros serão armazenados no dicionário `parameters`.  "
   ]
  },
  {
   "cell_type": "markdown",
   "metadata": {},
   "source": [
    "**Exercício**: Inicialize as variáveis $v, s$ do algoritmo Adam para armazenar os valores passados.\n",
    "\n",
    "**Instrução**: As variáveis $v, s$ são dicionários python que precisam ser inicializadas com um array de zeros. As chaves são as mesmas para `grads`, isto é:\n",
    "for $l = 1, ..., L$:\n",
    "```python\n",
    "v[\"dW\" + str(l+1)] = ... #(array numpy de zeros com o mesmo formato de parameters[\"W\" + str(l+1)])\n",
    "v[\"db\" + str(l+1)] = ... #(array numpy de zeros com o mesmo formato de parameters[\"b\" + str(l+1)])\n",
    "s[\"dW\" + str(l+1)] = ... #(array numpy de zeros com o mesmo formato de parameters[\"W\" + str(l+1)])\n",
    "s[\"db\" + str(l+1)] = ... #(array numpy de zeros com o mesmo formato de parameters[\"b\" + str(l+1)])\n",
    "\n",
    "```"
   ]
  },
  {
   "cell_type": "code",
   "execution_count": 12,
   "metadata": {},
   "outputs": [],
   "source": [
    "# FUNÇÃO DE AVALIAÇÃO: initialize_adam\n",
    "\n",
    "def initialize_adam(parameters) :\n",
    "    \"\"\"\n",
    "    Inicializa as variáveis v e s como dois dicionários python com:\n",
    "                - chaves: \"dW1\", \"db1\", ..., \"dWL\", \"dbL\" \n",
    "                - valores: arrays numpy arrays de zeros no mesmo formato dos gradientes/parâmetros correspondentes.\n",
    "    \n",
    "    Argumentos:\n",
    "    parameters -- dicionário python contendo os parâmetros.\n",
    "                    parameters[\"W\" + str(l)] = Wl\n",
    "                    parameters[\"b\" + str(l)] = bl\n",
    "    \n",
    "    Retorna: \n",
    "    v -- dicionário python que contém as médias ponderadas exponenciais do gradiente.\n",
    "                    v[\"dW\" + str(l)] = ...\n",
    "                    v[\"db\" + str(l)] = ...\n",
    "    s -- dicionário python que contém as médias ponderadas exponenciais do quadrado do gradiente.\n",
    "                    s[\"dW\" + str(l)] = ...\n",
    "                    s[\"db\" + str(l)] = ...\n",
    "\n",
    "    \"\"\"\n",
    "    \n",
    "    L = len(parameters) // 2 # número de camadas da rede neural\n",
    "    v = {}\n",
    "    s = {}\n",
    "    \n",
    "    # Inicializa v, s. Entrada: \"parameters\". Saída: \"v, s\".\n",
    "    for l in range(L):\n",
    "    ### INICIE SEU CÓDIGO AQUI ### (aprox. 4 linhas)\n",
    "        v[\"dW\" + str(l+1)] = np.zeros((parameters[\"W\"+str(l+1)].shape[0],parameters[\"W\"+str(l+1)].shape[1]))\n",
    "        v[\"db\" + str(l+1)] = np.zeros((parameters[\"b\"+str(l+1)].shape[0],parameters[\"b\"+str(l+1)].shape[1]))\n",
    "        s[\"dW\" + str(l+1)] = np.zeros((parameters[\"W\"+str(l+1)].shape[0],parameters[\"W\"+str(l+1)].shape[1]))\n",
    "        s[\"db\" + str(l+1)] = np.zeros((parameters[\"b\"+str(l+1)].shape[0],parameters[\"b\"+str(l+1)].shape[1]))\n",
    "    ### TÉRMINO DO CODIGO ###\n",
    "    \n",
    "    return v, s"
   ]
  },
  {
   "cell_type": "code",
   "execution_count": 13,
   "metadata": {},
   "outputs": [
    {
     "name": "stdout",
     "output_type": "stream",
     "text": [
      "v[\"dW1\"] = [[0. 0. 0.]\n",
      " [0. 0. 0.]]\n",
      "v[\"db1\"] = [[0.]\n",
      " [0.]]\n",
      "v[\"dW2\"] = [[0. 0. 0.]\n",
      " [0. 0. 0.]\n",
      " [0. 0. 0.]]\n",
      "v[\"db2\"] = [[0.]\n",
      " [0.]\n",
      " [0.]]\n",
      "s[\"dW1\"] = [[0. 0. 0.]\n",
      " [0. 0. 0.]]\n",
      "s[\"db1\"] = [[0.]\n",
      " [0.]]\n",
      "s[\"dW2\"] = [[0. 0. 0.]\n",
      " [0. 0. 0.]\n",
      " [0. 0. 0.]]\n",
      "s[\"db2\"] = [[0.]\n",
      " [0.]\n",
      " [0.]]\n"
     ]
    }
   ],
   "source": [
    "parameters = initialize_adam_test_case()\n",
    "\n",
    "v, s = initialize_adam(parameters)\n",
    "print(\"v[\\\"dW1\\\"] = \" + str(v[\"dW1\"]))\n",
    "print(\"v[\\\"db1\\\"] = \" + str(v[\"db1\"]))\n",
    "print(\"v[\\\"dW2\\\"] = \" + str(v[\"dW2\"]))\n",
    "print(\"v[\\\"db2\\\"] = \" + str(v[\"db2\"]))\n",
    "print(\"s[\\\"dW1\\\"] = \" + str(s[\"dW1\"]))\n",
    "print(\"s[\\\"db1\\\"] = \" + str(s[\"db1\"]))\n",
    "print(\"s[\\\"dW2\\\"] = \" + str(s[\"dW2\"]))\n",
    "print(\"s[\\\"db2\\\"] = \" + str(s[\"db2\"]))\n"
   ]
  },
  {
   "cell_type": "markdown",
   "metadata": {},
   "source": [
    "**Saída esperada**:\n",
    "\n",
    "<table style=\"width:40%\"> \n",
    "    <tr>\n",
    "    <td > **v[\"dW1\"]** </td> \n",
    "           <td > [[ 0.  0.  0.]\n",
    " [ 0.  0.  0.]] </td> \n",
    "    </tr> \n",
    "    \n",
    "    <tr>\n",
    "    <td > **v[\"db1\"]** </td> \n",
    "           <td > [[ 0.]\n",
    " [ 0.]] </td> \n",
    "    </tr> \n",
    "    \n",
    "    <tr>\n",
    "    <td > **v[\"dW2\"]** </td> \n",
    "           <td > [[ 0.  0.  0.]\n",
    " [ 0.  0.  0.]\n",
    " [ 0.  0.  0.]] </td> \n",
    "    </tr> \n",
    "    \n",
    "    <tr>\n",
    "    <td > **v[\"db2\"]** </td> \n",
    "           <td > [[ 0.]\n",
    " [ 0.]\n",
    " [ 0.]] </td> \n",
    "    </tr> \n",
    "    <tr>\n",
    "    <td > **s[\"dW1\"]** </td> \n",
    "           <td > [[ 0.  0.  0.]\n",
    " [ 0.  0.  0.]] </td> \n",
    "    </tr> \n",
    "    \n",
    "    <tr>\n",
    "    <td > **s[\"db1\"]** </td> \n",
    "           <td > [[ 0.]\n",
    " [ 0.]] </td> \n",
    "    </tr> \n",
    "    \n",
    "    <tr>\n",
    "    <td > **s[\"dW2\"]** </td> \n",
    "           <td > [[ 0.  0.  0.]\n",
    " [ 0.  0.  0.]\n",
    " [ 0.  0.  0.]] </td> \n",
    "    </tr> \n",
    "    \n",
    "    <tr>\n",
    "    <td > **s[\"db2\"]** </td> \n",
    "           <td > [[ 0.]\n",
    " [ 0.]\n",
    " [ 0.]] </td> \n",
    "    </tr>\n",
    "\n",
    "</table>\n"
   ]
  },
  {
   "cell_type": "markdown",
   "metadata": {},
   "source": [
    "**Exercício**:  Agora, implemente a atualização de parâmetros de Adam. Lembre que a regra geral de atualização é: for $l = 1, ..., L$: \n",
    "\n",
    "$$\\begin{cases}\n",
    "v_{W^{[l]}} = \\beta_1 v_{W^{[l]}} + (1 - \\beta_1) \\frac{\\partial J }{ \\partial W^{[l]} } \\\\\n",
    "v^{corrigido}_{W^{[l]}} = \\frac{v_{W^{[l]}}}{1 - (\\beta_1)^t} \\\\\n",
    "s_{W^{[l]}} = \\beta_2 s_{W^{[l]}} + (1 - \\beta_2) (\\frac{\\partial J }{\\partial W^{[l]} })^2 \\\\\n",
    "s^{corrigido}_{W^{[l]}} = \\frac{s_{W^{[l]}}}{1 - (\\beta_2)^t} \\\\\n",
    "W^{[l]} = W^{[l]} - \\alpha \\frac{v^{corrigido}_{W^{[l]}}}{\\sqrt{s^{corrigido}_{W^{[l]}}}+\\varepsilon}\n",
    "\\end{cases}$$\n",
    "\n",
    "\n",
    "**Note** que a variável de interação `l` é inicializada com 0 no loop `for` enquanto que os parâmetros são $W^{[1]}$ e $b^{[1]}$. Você precisa de um shift de `l` para `l+1` no código."
   ]
  },
  {
   "cell_type": "code",
   "execution_count": 14,
   "metadata": {},
   "outputs": [],
   "source": [
    "# FUNÇÃO DE AVALIAÇÃO: update_parameters_with_adam\n",
    "\n",
    "def update_parameters_with_adam(parameters, grads, v, s, t, learning_rate = 0.01,\n",
    "                                beta1 = 0.9, beta2 = 0.999,  epsilon = 1e-8):\n",
    "    \"\"\"\n",
    "    Atualização de parâmetros utilizando Adam\n",
    "    \n",
    "    Argumentos:\n",
    "    parameters -- dicionário python dictionary contendo os parâmetros:\n",
    "                    parameters['W' + str(l)] = Wl\n",
    "                    parameters['b' + str(l)] = bl\n",
    "    grads -- dicionário python contendo os gradientes de cada parâmetro:\n",
    "                    grads['dW' + str(l)] = dWl\n",
    "                    grads['db' + str(l)] = dbl\n",
    "    v -- variável do Adam, dicionário python para a média ponderada do primeiro gradiente.\n",
    "    s -- variável do Adam, dicionário python para a média ponderada do gradiente ao quadrado.\n",
    "    learning_rate -- a taxa de aprendizado, um escalar.\n",
    "    beta1 -- hiper parâmetro para estimativa do primeiro momento - redução exponencial. \n",
    "    beta2 -- hiper parâmetro para estimativa do segundo momento - redução exponencial. \n",
    "    epsilon -- hiper parâmetro para prevenir a divisão por 0 na atualização de Adam. \n",
    "\n",
    "    Retorna:\n",
    "    parameters -- dicionário python contendo os parâmetros atualizados \n",
    "    v -- variável do Adam, média móvel do primeiro gradiente, um dicionário python\n",
    "    s -- variável do Adam, média móvel do gradiente ao quadrado, um dicionário python\n",
    "    \"\"\"\n",
    "    \n",
    "    L = len(parameters) // 2                 # número de camadas na rede neural\n",
    "    v_corrected = {}                         # Inicializa um estimador do primeiro momento, dicionário python\n",
    "    s_corrected = {}                         # Inicializa um estimador do segundo momento, dicionário python\n",
    "    \n",
    "    # Executa a atualização de Adam sobre todos os parâmetros\n",
    "    for l in range(L):\n",
    "        # Média móvel dos gradientes. Entradas: \"v, grads, beta1\". Saída: \"v\".\n",
    "        ### INICIE SEU CÓDIGO AQUI ### (aprox. 2 linhas)\n",
    "        v[\"dW\" + str(l+1)] = beta1*v[\"dW\"+str(l+1)]+(1-beta1)*grads[\"dW\"+str(l+1)]\n",
    "        v[\"db\" + str(l+1)] = beta1*v[\"db\"+str(l+1)]+(1-beta1)*grads[\"db\"+str(l+1)]\n",
    "        ### TÉRMINO DO CÓDIGO ###\n",
    "\n",
    "        # Computa a correção de bias para o estimador do primeiro momento. Entrada: \"v, beta1, t\". Saída: \"v_corrected\".\n",
    "        ### INICIE SEU CÓDIGO AQUI ### (aprox. 2 linhas)\n",
    "        v_corrected[\"dW\" + str(l+1)] = v[\"dW\"+str(l+1)]/(1-np.power(beta1,t))\n",
    "        v_corrected[\"db\" + str(l+1)] = v[\"db\"+str(l+1)]/(1-np.power(beta1,t))\n",
    "        ### TÉRMINO DO CÓDIGO ###\n",
    "\n",
    "        # Média móvel do gradiente ao quadrado. Entrada: \"s, grads, beta2\". Saída: \"s\".\n",
    "        ### INICIE SEU CÓDIGO AQUI ### (aprox. 2 linhas)\n",
    "        s[\"dW\" + str(l+1)] =  beta2*s[\"dW\"+str(l+1)]+(1-beta2)*np.power(grads[\"dW\"+str(l+1)],2)\n",
    "        s[\"db\" + str(l+1)] = beta2*s[\"db\"+str(l+1)]+(1-beta2)*np.power(grads[\"db\"+str(l+1)],2)\n",
    "        ### TÉRMINO DO CÓDIGO ###\n",
    "\n",
    "        # Computa a correção de bias do segundo estimador de momento. Entrada: \"s, beta2, t\". Saída: \"s_corrected\".\n",
    "        ### INICIE SEU CÓDIGO AQUI ### (aprox. 2 linhas)\n",
    "        s_corrected[\"dW\" + str(l+1)] = s[\"dW\"+str(l+1)]/(1-np.power(beta2,t))\n",
    "        s_corrected[\"db\" + str(l+1)] = s[\"db\"+str(l+1)]/(1-np.power(beta2,t))\n",
    "        ### TÉRMINO DO CÓDIGO ###\n",
    "\n",
    "        # Atualiza os parâmetros. Entrada: \"parameters, learning_rate, v_corrected, s_corrected, epsilon\". Saída: \"parameters\".\n",
    "        ### INICIE SEU CÓDIGO AQUI ### (aprox. 2 linhas)\n",
    "        parameters[\"W\" + str(l+1)] = parameters[\"W\"+str(l+1)]-learning_rate*(v_corrected[\"dW\"+str(l+1)]/np.sqrt(s_corrected[\"dW\"+str(l+1)]+epsilon))\n",
    "        parameters[\"b\" + str(l+1)] = parameters[\"b\"+str(l+1)]-learning_rate*(v_corrected[\"db\"+str(l+1)]/np.sqrt(s_corrected[\"db\"+str(l+1)]+epsilon))\n",
    "        ### TÉRMINO DO CÓDIGO ###\n",
    "\n",
    "    return parameters, v, s"
   ]
  },
  {
   "cell_type": "code",
   "execution_count": 15,
   "metadata": {
    "scrolled": false
   },
   "outputs": [
    {
     "name": "stdout",
     "output_type": "stream",
     "text": [
      "W1 = [[ 1.63178673 -0.61919778 -0.53561312]\n",
      " [-1.08040999  0.85796626 -2.29409733]]\n",
      "b1 = [[ 1.75225313]\n",
      " [-0.75376553]]\n",
      "W2 = [[ 0.32648046 -0.25681174  1.46954931]\n",
      " [-2.05269934 -0.31497584 -0.37661299]\n",
      " [ 1.14121081 -1.09245036 -0.16498684]]\n",
      "b2 = [[-0.88529978]\n",
      " [ 0.03477238]\n",
      " [ 0.57537385]]\n",
      "v[\"dW1\"] = [[-0.11006192  0.11447237  0.09015907]\n",
      " [ 0.05024943  0.09008559 -0.06837279]]\n",
      "v[\"db1\"] = [[-0.01228902]\n",
      " [-0.09357694]]\n",
      "v[\"dW2\"] = [[-0.02678881  0.05303555 -0.06916608]\n",
      " [-0.03967535 -0.06871727 -0.08452056]\n",
      " [-0.06712461 -0.00126646 -0.11173103]]\n",
      "v[\"db2\"] = [[0.02344157]\n",
      " [0.16598022]\n",
      " [0.07420442]]\n",
      "s[\"dW1\"] = [[0.00121136 0.00131039 0.00081287]\n",
      " [0.0002525  0.00081154 0.00046748]]\n",
      "s[\"db1\"] = [[1.51020075e-05]\n",
      " [8.75664434e-04]]\n",
      "s[\"dW2\"] = [[7.17640232e-05 2.81276921e-04 4.78394595e-04]\n",
      " [1.57413361e-04 4.72206320e-04 7.14372576e-04]\n",
      " [4.50571368e-04 1.60392066e-07 1.24838242e-03]]\n",
      "s[\"db2\"] = [[5.49507194e-05]\n",
      " [2.75494327e-03]\n",
      " [5.50629536e-04]]\n"
     ]
    }
   ],
   "source": [
    "parameters, grads, v, s = update_parameters_with_adam_test_case()\n",
    "parameters, v, s  = update_parameters_with_adam(parameters, grads, v, s, t = 2)\n",
    "\n",
    "print(\"W1 = \" + str(parameters[\"W1\"]))\n",
    "print(\"b1 = \" + str(parameters[\"b1\"]))\n",
    "print(\"W2 = \" + str(parameters[\"W2\"]))\n",
    "print(\"b2 = \" + str(parameters[\"b2\"]))\n",
    "print(\"v[\\\"dW1\\\"] = \" + str(v[\"dW1\"]))\n",
    "print(\"v[\\\"db1\\\"] = \" + str(v[\"db1\"]))\n",
    "print(\"v[\\\"dW2\\\"] = \" + str(v[\"dW2\"]))\n",
    "print(\"v[\\\"db2\\\"] = \" + str(v[\"db2\"]))\n",
    "print(\"s[\\\"dW1\\\"] = \" + str(s[\"dW1\"]))\n",
    "print(\"s[\\\"db1\\\"] = \" + str(s[\"db1\"]))\n",
    "print(\"s[\\\"dW2\\\"] = \" + str(s[\"dW2\"]))\n",
    "print(\"s[\\\"db2\\\"] = \" + str(s[\"db2\"]))"
   ]
  },
  {
   "cell_type": "markdown",
   "metadata": {},
   "source": [
    "**Saída esperada**:\n",
    "\n",
    "<table> \n",
    "    <tr>\n",
    "    <td > **W1** </td> \n",
    "           <td > [[ 1.63178673 -0.61919778 -0.53561312]\n",
    " [-1.08040999  0.85796626 -2.29409733]] </td> \n",
    "    </tr> \n",
    "    \n",
    "    <tr>\n",
    "    <td > **b1** </td> \n",
    "           <td > [[ 1.75225313]\n",
    " [-0.75376553]] </td> \n",
    "    </tr> \n",
    "    \n",
    "    <tr>\n",
    "    <td > **W2** </td> \n",
    "           <td > [[ 0.32648046 -0.25681174  1.46954931]\n",
    " [-2.05269934 -0.31497584 -0.37661299]\n",
    " [ 1.14121081 -1.09245036 -0.16498684]] </td> \n",
    "    </tr> \n",
    "    \n",
    "    <tr>\n",
    "    <td > **b2** </td> \n",
    "           <td > [[-0.88529978]\n",
    " [ 0.03477238]\n",
    " [ 0.57537385]] </td> \n",
    "    </tr> \n",
    "    <tr>\n",
    "    <td > **v[\"dW1\"]** </td> \n",
    "           <td > [[-0.11006192  0.11447237  0.09015907]\n",
    " [ 0.05024943  0.09008559 -0.06837279]] </td> \n",
    "    </tr> \n",
    "    \n",
    "    <tr>\n",
    "    <td > **v[\"db1\"]** </td> \n",
    "           <td > [[-0.01228902]\n",
    " [-0.09357694]] </td> \n",
    "    </tr> \n",
    "    \n",
    "    <tr>\n",
    "    <td > **v[\"dW2\"]** </td> \n",
    "           <td > [[-0.02678881  0.05303555 -0.06916608]\n",
    " [-0.03967535 -0.06871727 -0.08452056]\n",
    " [-0.06712461 -0.00126646 -0.11173103]] </td> \n",
    "    </tr> \n",
    "    \n",
    "    <tr>\n",
    "    <td > **v[\"db2\"]** </td> \n",
    "           <td > [[ 0.02344157]\n",
    " [ 0.16598022]\n",
    " [ 0.07420442]] </td> \n",
    "    </tr> \n",
    "    <tr>\n",
    "    <td > **s[\"dW1\"]** </td> \n",
    "           <td > [[ 0.00121136  0.00131039  0.00081287]\n",
    " [ 0.0002525   0.00081154  0.00046748]] </td> \n",
    "    </tr> \n",
    "    \n",
    "    <tr>\n",
    "    <td > **s[\"db1\"]** </td> \n",
    "           <td > [[  1.51020075e-05]\n",
    " [  8.75664434e-04]] </td> \n",
    "    </tr> \n",
    "    \n",
    "    <tr>\n",
    "    <td > **s[\"dW2\"]** </td> \n",
    "           <td > [[  7.17640232e-05   2.81276921e-04   4.78394595e-04]\n",
    " [  1.57413361e-04   4.72206320e-04   7.14372576e-04]\n",
    " [  4.50571368e-04   1.60392066e-07   1.24838242e-03]] </td> \n",
    "    </tr> \n",
    "    \n",
    "    <tr>\n",
    "    <td > **s[\"db2\"]** </td> \n",
    "           <td > [[  5.49507194e-05]\n",
    " [  2.75494327e-03]\n",
    " [  5.50629536e-04]] </td> \n",
    "    </tr>\n",
    "</table>\n"
   ]
  },
  {
   "cell_type": "markdown",
   "metadata": {},
   "source": [
    "Agora você tem três algoritmos de otimização funcionando (gradiente descendente com mini-batch, Momento e Adam). Vamos implementar um modelo com cada uma destas otimizações e observar as diferenças. "
   ]
  },
  {
   "cell_type": "markdown",
   "metadata": {},
   "source": [
    "## 5 - Modelo com algoritmos diferentes de otimização\n",
    "\n",
    "Vamos utilizar a base de dados \"moons\" para testar os métodos de otimização. (A base de dados é chamada de \"moons\" porque os dados de cada uma das duas classes parecem um pouco com uma lua crescente). "
   ]
  },
  {
   "cell_type": "code",
   "execution_count": 16,
   "metadata": {},
   "outputs": [
    {
     "data": {
      "image/png": "[encoded data removed]",
      "text/plain": [
       "<Figure size 432x288 with 1 Axes>"
      ]
     },
     "metadata": {},
     "output_type": "display_data"
    }
   ],
   "source": [
    "train_X, train_Y = load_dataset()"
   ]
  },
  {
   "cell_type": "markdown",
   "metadata": {},
   "source": [
    "Você irá utilizar uma rede neural com 3 camadas já desenvolvida. Você deverá treiná-la com: \n",
    "- **Gradiente Descendente com Mini-batch**: que deve chamar a sua função:\n",
    "    - `update_parameters_with_gd()`\n",
    "- **Momento com Mini-batch**: que deve chamar as suas funções:\n",
    "    - `initialize_velocity()` e `update_parameters_with_momentum()`\n",
    "- **Adam com Mini-batch**: que deve chamar as suas funções:\n",
    "    - `initialize_adam()` e `update_parameters_with_adam()`"
   ]
  },
  {
   "cell_type": "code",
   "execution_count": 17,
   "metadata": {},
   "outputs": [],
   "source": [
    "def model(X, Y, layers_dims, optimizer, learning_rate = 0.0007, mini_batch_size = 64, beta = 0.9,\n",
    "          beta1 = 0.9, beta2 = 0.999,  epsilon = 1e-8, num_epochs = 10000, print_cost = True):\n",
    "    \"\"\"\n",
    "    Modelo de rede neural de 3 camadas que pode utilizar modelos diferentes de otimização.\n",
    "    \n",
    "    Argumentos:\n",
    "    X -- dados de entrada, no formato (2, número de exemplos)\n",
    "    Y -- vetor com os valores de saída (1 para ponto azul / 0 para ponto vermelho), no formato (1, número de exemplos)\n",
    "    layers_dims -- uma lista python, contendo o tamanho de cada camada\n",
    "    learning_rate -- a taxa de aprendizado, um escalar.\n",
    "    mini_batch_size -- o tamanho de cada mini-batch\n",
    "    beta -- hiper-parâmetro de Momento\n",
    "    beta1 -- hiper-parâmetro de queda exponencial para o estimador dos gradientes. \n",
    "    beta2 -- hiper-parâmetro de queda exponencial para o estimador dos gradientes ao quadrado. \n",
    "    epsilon -- hiper-parâmetro para evitar a divisão por 0 nas atualizações de Adam.\n",
    "    num_epochs -- número de épocas\n",
    "    print_cost -- se Verdade imprime o custo a cada 1000 épocas\n",
    "\n",
    "    Retorna:\n",
    "    parameters -- dicionário python contendo os parâmetros atualizados \n",
    "    \"\"\"\n",
    "\n",
    "    L = len(layers_dims)             # número de camadas na rede neural\n",
    "    costs = []                       # usado para armazenar os valores de custo\n",
    "    t = 0                            # inicialização do contador para a atualização de Adam.\n",
    "    seed = 10                        # inicializa a semente do gerador de números aleatórios. Não alterar este valor.\n",
    "    \n",
    "    # Inicializa os parâmetros\n",
    "    parameters = initialize_parameters(layers_dims)\n",
    "\n",
    "    # Inicializa o otimizador\n",
    "    if optimizer == \"gd\":\n",
    "        pass # o gradiente descendente não requer inicialização\n",
    "    elif optimizer == \"momentum\":\n",
    "        v = initialize_velocity(parameters)\n",
    "    elif optimizer == \"adam\":\n",
    "        v, s = initialize_adam(parameters)\n",
    "    \n",
    "    # Loop de otimização\n",
    "    for i in range(num_epochs):\n",
    "        \n",
    "        # Define os mini-batches aleatoriamente. Incrementa-se a semente para que a ordem dos exemplos seja diferente em cada época.       seed = seed + 1\n",
    "        minibatches = random_mini_batches(X, Y, mini_batch_size, seed)\n",
    "\n",
    "        for minibatch in minibatches:\n",
    "\n",
    "            # Seleciona um mini-batch\n",
    "            (minibatch_X, minibatch_Y) = minibatch\n",
    "\n",
    "            # Propagação para frente\n",
    "            a3, caches = forward_propagation(minibatch_X, parameters)\n",
    "\n",
    "            # Determina o custo\n",
    "            cost = compute_cost(a3, minibatch_Y)\n",
    "\n",
    "            # Propagação para trás\n",
    "            grads = backward_propagation(minibatch_X, minibatch_Y, caches)\n",
    "\n",
    "            # Atualiza os parâmetros\n",
    "            if optimizer == \"gd\":\n",
    "                parameters = update_parameters_with_gd(parameters, grads, learning_rate)\n",
    "            elif optimizer == \"momentum\":\n",
    "                parameters, v = update_parameters_with_momentum(parameters, grads, v, beta, learning_rate)\n",
    "            elif optimizer == \"adam\":\n",
    "                t = t + 1 # contador da Adam\n",
    "                parameters, v, s = update_parameters_with_adam(parameters, grads, v, s,\n",
    "                                                               t, learning_rate, beta1, beta2,  epsilon)\n",
    "        \n",
    "        # Imprime o custo após 100 épocas\n",
    "        if print_cost and i % 1000 == 0:\n",
    "            print (\"Custo após a época %i: %f\" %(i, cost))\n",
    "        if print_cost and i % 100 == 0:\n",
    "            costs.append(cost)\n",
    "                \n",
    "    # mostra o custo\n",
    "    plt.plot(costs)\n",
    "    plt.ylabel('custo')\n",
    "    plt.xlabel('épocas (por 100)')\n",
    "    plt.title(\"Taxa de aprendizado = \" + str(learning_rate))\n",
    "    plt.show()\n",
    "\n",
    "    return parameters"
   ]
  },
  {
   "cell_type": "markdown",
   "metadata": {},
   "source": [
    "Agora você irá executar esta rede neural de 3 camadas com cada um dos métods de otimização.\n",
    "\n",
    "### 5.1 - Gradiente Descendente com Mini-batch\n",
    "\n",
    "Execute o código abaixo para ver como o modelo funciona com o Gradiente Descendente com Mini-batch."
   ]
  },
  {
   "cell_type": "code",
   "execution_count": 18,
   "metadata": {
    "scrolled": false
   },
   "outputs": [
    {
     "name": "stdout",
     "output_type": "stream",
     "text": [
      "Custo após a época 0: 0.709550\n",
      "Custo após a época 1000: 0.672733\n",
      "Custo após a época 2000: 0.643505\n",
      "Custo após a época 3000: 0.619351\n",
      "Custo após a época 4000: 0.598353\n",
      "Custo após a época 5000: 0.580193\n",
      "Custo após a época 6000: 0.562638\n",
      "Custo após a época 7000: 0.547293\n",
      "Custo após a época 8000: 0.535597\n",
      "Custo após a época 9000: 0.509712\n"
     ]
    },
    {
     "data": {
      "image/png": "[encoded data removed]",
      "text/plain": [
       "<Figure size 432x288 with 1 Axes>"
      ]
     },
     "metadata": {},
     "output_type": "display_data"
    },
    {
     "name": "stdout",
     "output_type": "stream",
     "text": [
      "Accuracy: 0.7966666666666666\n"
     ]
    },
    {
     "data": {
      "image/png": "[encoded data removed]",
      "text/plain": [
       "<Figure size 432x288 with 1 Axes>"
      ]
     },
     "metadata": {},
     "output_type": "display_data"
    }
   ],
   "source": [
    "# treinar o modelo de 3 camadas\n",
    "layers_dims = [train_X.shape[0], 5, 2, 1]\n",
    "parameters = model(train_X, train_Y, layers_dims, optimizer = \"gd\")\n",
    "\n",
    "# Predição\n",
    "predictions = predict(train_X, train_Y, parameters)\n",
    "# Plota olimite de decisão encontrado\n",
    "plt.title(\"Otimização do modelo usando o Gradiente Descendente com mini-batch\")\n",
    "axes = plt.gca()\n",
    "axes.set_xlim([-1.5,2.5])\n",
    "axes.set_ylim([-1,1.5])\n",
    "plot_decision_boundary(lambda x: predict_dec(parameters, x.T), train_X, train_Y[0,:])"
   ]
  },
  {
   "cell_type": "markdown",
   "metadata": {
    "collapsed": true
   },
   "source": [
    "### 5.2 - Gradiente Descendente com Mini-batch e Momento\n",
    "\n",
    "Execute o código abaixo para ver como o modelo se comporta com o uso de momento. Como este exemplo é bem simples o ganho no uso de momento é pequeno; porém, para exemplos mais complexos é possível observar ganhos mais significativos. "
   ]
  },
  {
   "cell_type": "code",
   "execution_count": 19,
   "metadata": {},
   "outputs": [
    {
     "name": "stdout",
     "output_type": "stream",
     "text": [
      "Custo após a época 0: 0.709576\n",
      "Custo após a época 1000: 0.672790\n",
      "Custo após a época 2000: 0.643575\n",
      "Custo após a época 3000: 0.619428\n",
      "Custo após a época 4000: 0.598411\n",
      "Custo após a época 5000: 0.580265\n",
      "Custo após a época 6000: 0.562730\n",
      "Custo após a época 7000: 0.547361\n",
      "Custo após a época 8000: 0.535709\n",
      "Custo após a época 9000: 0.509887\n"
     ]
    },
    {
     "data": {
      "image/png": "[encoded data removed]",
      "text/plain": [
       "<Figure size 432x288 with 1 Axes>"
      ]
     },
     "metadata": {},
     "output_type": "display_data"
    },
    {
     "name": "stdout",
     "output_type": "stream",
     "text": [
      "Accuracy: 0.7966666666666666\n"
     ]
    },
    {
     "data": {
      "image/png": "[encoded data removed]",
      "text/plain": [
       "<Figure size 432x288 with 1 Axes>"
      ]
     },
     "metadata": {},
     "output_type": "display_data"
    }
   ],
   "source": [
    "# treinamento do modelo de 3 camadas\n",
    "layers_dims = [train_X.shape[0], 5, 2, 1]\n",
    "parameters = model(train_X, train_Y, layers_dims, beta = 0.9, optimizer = \"momentum\")\n",
    "\n",
    "# Predição\n",
    "predictions = predict(train_X, train_Y, parameters)\n",
    "\n",
    "# Plota a borda de decisão\n",
    "plt.title(\"Otimização do modelo com Momento\")\n",
    "axes = plt.gca()\n",
    "axes.set_xlim([-1.5,2.5])\n",
    "axes.set_ylim([-1,1.5])\n",
    "plot_decision_boundary(lambda x: predict_dec(parameters, x.T), train_X, train_Y[0,:])"
   ]
  },
  {
   "cell_type": "markdown",
   "metadata": {
    "collapsed": true
   },
   "source": [
    "### 5.3 - Otimização utilizando Mini-batch com Adam\n",
    "\n",
    "Execute o código abaixo para ver como o modelo se comporta utilizando Adam."
   ]
  },
  {
   "cell_type": "code",
   "execution_count": 20,
   "metadata": {},
   "outputs": [
    {
     "name": "stdout",
     "output_type": "stream",
     "text": [
      "Custo após a época 0: 0.708437\n",
      "Custo após a época 1000: 0.155727\n",
      "Custo após a época 2000: 0.127277\n",
      "Custo após a época 3000: 0.122448\n",
      "Custo após a época 4000: 0.124640\n",
      "Custo após a época 5000: 0.123375\n",
      "Custo após a época 6000: 0.122651\n",
      "Custo após a época 7000: 0.117137\n",
      "Custo após a época 8000: 0.115803\n",
      "Custo após a época 9000: 0.115501\n"
     ]
    },
    {
     "data": {
      "image/png": "[encoded data removed]",
      "text/plain": [
       "<Figure size 432x288 with 1 Axes>"
      ]
     },
     "metadata": {},
     "output_type": "display_data"
    },
    {
     "name": "stdout",
     "output_type": "stream",
     "text": [
      "Accuracy: 0.9366666666666666\n"
     ]
    },
    {
     "data": {
      "image/png": "[encoded data removed]",
      "text/plain": [
       "<Figure size 432x288 with 1 Axes>"
      ]
     },
     "metadata": {},
     "output_type": "display_data"
    }
   ],
   "source": [
    "# treinar o modelo de 3 camadas\n",
    "layers_dims = [train_X.shape[0], 5, 2, 1]\n",
    "parameters = model(train_X, train_Y, layers_dims, optimizer = \"adam\")\n",
    "\n",
    "# Predição\n",
    "predictions = predict(train_X, train_Y, parameters)\n",
    "\n",
    "# Plota a borda de decisão\n",
    "plt.title(\"Otimização do modelo utilizando Adam\")\n",
    "axes = plt.gca()\n",
    "axes.set_xlim([-1.5,2.5])\n",
    "axes.set_ylim([-1,1.5])\n",
    "plot_decision_boundary(lambda x: predict_dec(parameters, x.T), train_X, train_Y[0,:])"
   ]
  },
  {
   "cell_type": "markdown",
   "metadata": {
    "collapsed": true
   },
   "source": [
    "### 5.4 - Resumo\n",
    "\n",
    "<table> \n",
    "    <tr>\n",
    "        <td>\n",
    "        **Método de otimização**\n",
    "        </td>\n",
    "        <td>\n",
    "        **Precisão**\n",
    "        </td>\n",
    "        <td>\n",
    "        **Formato do custo**\n",
    "        </td>\n",
    "\n",
    "    </tr>\n",
    "        <td>\n",
    "        Gradiente descendente mini-batch\n",
    "        </td>\n",
    "        <td>\n",
    "        79.7%\n",
    "        </td>\n",
    "        <td>\n",
    "        oscilações\n",
    "        </td>\n",
    "    <tr>\n",
    "        <td>\n",
    "        Momento\n",
    "        </td>\n",
    "        <td>\n",
    "        79.7%\n",
    "        </td>\n",
    "        <td>\n",
    "        oscilações\n",
    "        </td>\n",
    "    </tr>\n",
    "    <tr>\n",
    "        <td>\n",
    "        Adam\n",
    "        </td>\n",
    "        <td>\n",
    "        94%\n",
    "        </td>\n",
    "        <td>\n",
    "        suave\n",
    "        </td>\n",
    "    </tr>\n",
    "</table> \n",
    "\n",
    "Momento geralmente auxilia, porém com uma taxa de aprendizado baixa e uma base de dados simples seu impacto é pequeno. Um outro problema são as oscilações vistas na função de custo devido ao uso de mini-batch. \n",
    "\n",
    "Adam, por outro lado, claramente tem um desempenho melhor que o uso de mini-batch e momento. Se você executar mais épocas, mesmo nesta base de dados simples, todos os 3 modelos devem convergir para resultados melhores mas o método de Adam deve convergir de forma mais rápida. \n",
    "\n",
    "Algumas vantagens do método de Adam inclui:\n",
    "- Requer uma quantidade de memória relativamente baixa, porém maior que o gradiente descendente com mini-batch ou com momento. \n",
    "- Usualmente funciona bem com pouco ajuste dos hiper parâmetros, exceto $\\alpha$."
   ]
  },
  {
   "cell_type": "markdown",
   "metadata": {
    "collapsed": true
   },
   "source": [
    "**Referências**:\n",
    "\n",
    "- Artigo Adam: https://arxiv.org/pdf/1412.6980.pdf"
   ]
  }
 ],
 "metadata": {
  "coursera": {
   "course_slug": "deep-neural-network",
   "graded_item_id": "Ckiv2",
   "launcher_item_id": "eNLYh"
  },
  "kernelspec": {
   "display_name": "Python 3",
   "language": "python",
   "name": "python3"
  },
  "language_info": {
   "codemirror_mode": {
    "name": "ipython",
    "version": 3
   },
   "file_extension": ".py",
   "mimetype": "text/x-python",
   "name": "python",
   "nbconvert_exporter": "python",
   "pygments_lexer": "ipython3",
   "version": "3.6.5"
  }
 },
 "nbformat": 4,
 "nbformat_minor": 1
}
