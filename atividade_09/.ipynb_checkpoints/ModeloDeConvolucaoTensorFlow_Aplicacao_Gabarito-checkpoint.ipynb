{
 "cells": [
  {
   "cell_type": "markdown",
   "metadata": {},
   "source": [
    "# Rede Neural Convolucional: aplicação\n",
    "\n",
    "Bem-vindo a segunda tarefa desta semana! Nesta tarefa, você irá:\n",
    "\n",
    "- Implementar funções auxiliares que serão utilizadas na implementação de um modelo usando TensorFlow.\n",
    "- Implementar uma convNet completa utilizando TensorFlow. \n",
    "\n",
    "**Após esta tarefa você deve ser capaz de:**\n",
    "\n",
    "- Construir e treinar uma convNet usando TensorFlow para um problema de classificação.  \n"
   ]
  },
  {
   "cell_type": "markdown",
   "metadata": {},
   "source": [
    "## 1.0 - Modelo usando TensorFlow\n",
    "\n",
    "Na tarefa anterior, você construiu funções auxiliares utilizando numpy para compreender os mecanismos por trás de uma rede neural convolucional. A maioria das aplicações práticas de aprendizado profundo hoje em dia são implementadas utilizando frameworks de programação, que já possuem diversas funções implementadas e que podem simplesmente ser chamadas.  \n",
    "\n",
    "Como sempre vamos começar carregando os pacotes necessários para esta tarefa.  "
   ]
  },
  {
   "cell_type": "code",
   "execution_count": 4,
   "metadata": {},
   "outputs": [],
   "source": [
    "import math\n",
    "import numpy as np\n",
    "import h5py\n",
    "import matplotlib.pyplot as plt\n",
    "import scipy\n",
    "from PIL import Image\n",
    "from scipy import ndimage\n",
    "import tensorflow as tf\n",
    "from tensorflow.python.framework import ops\n",
    "from cnn_utils import *\n",
    "\n",
    "%matplotlib inline\n",
    "np.random.seed(1)"
   ]
  },
  {
   "cell_type": "markdown",
   "metadata": {},
   "source": [
    "Execute a célula abaixo para carregar a base de dados \"SIGNS\" que será usada nesta tarefa."
   ]
  },
  {
   "cell_type": "code",
   "execution_count": 17,
   "metadata": {},
   "outputs": [],
   "source": [
    "# Carregando a base de dados SIGNS\n",
    "X_train_orig, Y_train_orig, X_test_orig, Y_test_orig, classes = load_dataset()"
   ]
  },
  {
   "cell_type": "markdown",
   "metadata": {},
   "source": [
    "Lembrando que, a base de dados SIGNS é uma coleção de 6 sinais representando números de 0 até 5. \n",
    "\n",
    "<img src=\"images/SIGNS.png\" style=\"width:800px;height:300px;\">\n",
    "\n",
    "A próxima célula irá mostrar um exemplo de imagem da base de dados. Modifique o valor da variável `index` e execute novamente a célula para ver outros exemplos. "
   ]
  },
  {
   "cell_type": "code",
   "execution_count": 18,
   "metadata": {},
   "outputs": [
    {
     "name": "stdout",
     "output_type": "stream",
     "text": [
      "y = 2\n"
     ]
    },
    {
     "data": {
      "image/png": "[encoded data removed]",
      "text/plain": [
       "<Figure size 432x288 with 1 Axes>"
      ]
     },
     "metadata": {},
     "output_type": "display_data"
    }
   ],
   "source": [
    "# Exemplo de imagem\n",
    "index = 6\n",
    "plt.imshow(X_train_orig[index])\n",
    "print (\"y = \" + str(np.squeeze(Y_train_orig[:, index])))"
   ]
  },
  {
   "cell_type": "markdown",
   "metadata": {},
   "source": [
    "No curso anterior você construiu uma rede neural totalmente conectada para esta base de dados. Porém, como esta é uma base de dados de imagens, parece mais natural utilizar uma convNet para ele. \n",
    "\n",
    "Vamos começar examinando o formato dos dados.  "
   ]
  },
  {
   "cell_type": "code",
   "execution_count": 19,
   "metadata": {},
   "outputs": [
    {
     "name": "stdout",
     "output_type": "stream",
     "text": [
      "número de exemplos de treinamento = 1080\n",
      "número de exemplos de teste = 120\n",
      "Formato do X_train: (1080, 64, 64, 3)\n",
      "Formato do Y_train: (1080, 6)\n",
      "Formato do X_test: (120, 64, 64, 3)\n",
      "Formato do Y_test: (120, 6)\n"
     ]
    }
   ],
   "source": [
    "X_train = X_train_orig/255.\n",
    "X_test = X_test_orig/255.\n",
    "Y_train = convert_to_one_hot(Y_train_orig, 6).T\n",
    "Y_test = convert_to_one_hot(Y_test_orig, 6).T\n",
    "print (\"número de exemplos de treinamento = \" + str(X_train.shape[0]))\n",
    "print (\"número de exemplos de teste = \" + str(X_test.shape[0]))\n",
    "print (\"Formato do X_train: \" + str(X_train.shape))\n",
    "print (\"Formato do Y_train: \" + str(Y_train.shape))\n",
    "print (\"Formato do X_test: \" + str(X_test.shape))\n",
    "print (\"Formato do Y_test: \" + str(Y_test.shape))\n",
    "conv_layers = {}"
   ]
  },
  {
   "cell_type": "markdown",
   "metadata": {
    "collapsed": true
   },
   "source": [
    "### 1.1 - Criando placeholders\n",
    "\n",
    "TensorFlow requer que sejam criados placeholders (variáveis) para os dados de entrada que serão utilizados no modelo, quando a sessão for executada.\n",
    "\n",
    "**Exercício**: Implemente a função abaixo para criar os placeholders para as imagens de entrada X e a saída Y. Você não deve definir ainda o número de exemplos. Portanto, utilize o valor \"None\" como sendo o tamanho do batch, isto te dará flexibilidade para escolher este valor depois. Logo, defina as dimensões de X como **[None, n_H0, n_W0, n_C0]** e Y deve ter as dimensões **[None, n_y]**.  [Dica](https://www.tensorflow.org/api_docs/python/tf/placeholder)."
   ]
  },
  {
   "cell_type": "code",
   "execution_count": 20,
   "metadata": {},
   "outputs": [],
   "source": [
    "# FUNÇÃO DE AVALIAÇÃO: create_placeholders\n",
    "\n",
    "def create_placeholders(n_H0, n_W0, n_C0, n_y):\n",
    "    \"\"\"\n",
    "    Cria os placeholders para a sessão do tensorflow.\n",
    "    \n",
    "    Argumentos:\n",
    "    n_H0 -- um escalar, altura da imagem de entrada.\n",
    "    n_W0 -- um escalar, largura da imagem de entrada.\n",
    "    n_C0 -- um escalar, número de canais da entrada.\n",
    "    n_y -- um escalar, número de classes\n",
    "        \n",
    "    Retorna:\n",
    "    X -- o placeholder para os dados de entrada, no formato [None, n_H0, n_W0, n_C0] e dtype \"float\"\n",
    "    Y -- o placeholder para os rótulos de saída, no formato [None, n_y] e dtype \"float\"\n",
    "    \"\"\"\n",
    "\n",
    "    ### INICIE O SEU CÓDIGO AQUI ### (≈2 linhas)\n",
    "    X = tf.placeholder(tf.float32,shape=(None,n_H0,n_W0,n_C0))\n",
    "    Y = tf.placeholder(tf.float32,shape=(None,n_y))\n",
    "    ### TÉRMINO DO CÓDIGO ###\n",
    "    \n",
    "    return X, Y"
   ]
  },
  {
   "cell_type": "code",
   "execution_count": 21,
   "metadata": {},
   "outputs": [
    {
     "name": "stdout",
     "output_type": "stream",
     "text": [
      "X = Tensor(\"Placeholder_2:0\", shape=(?, 64, 64, 3), dtype=float32)\n",
      "Y = Tensor(\"Placeholder_3:0\", shape=(?, 6), dtype=float32)\n"
     ]
    }
   ],
   "source": [
    "X, Y = create_placeholders(64, 64, 3, 6)\n",
    "print (\"X = \" + str(X))\n",
    "print (\"Y = \" + str(Y))"
   ]
  },
  {
   "cell_type": "markdown",
   "metadata": {},
   "source": [
    "**Saída esperada**\n",
    "\n",
    "<table> \n",
    "<tr>\n",
    "<td>\n",
    "    X = Tensor(\"Placeholder:0\", shape=(?, 64, 64, 3), dtype=float32)\n",
    "\n",
    "</td>\n",
    "</tr>\n",
    "<tr>\n",
    "<td>\n",
    "    Y = Tensor(\"Placeholder_1:0\", shape=(?, 6), dtype=float32)\n",
    "\n",
    "</td>\n",
    "</tr>\n",
    "</table>\n",
    "\n",
    "**Nota: ** os valores dos placeholders podem ser diferentes de 0 e 1."
   ]
  },
  {
   "cell_type": "markdown",
   "metadata": {},
   "source": [
    "### 1.2 - Inicialização de parâmetros\n",
    "\n",
    "Vamos inicializar os filtros/pesos $W1$ e $W2$ utilizando `tf.contrib.layers.xavier_initializer(seed = 0)`. Voc6e não precisa se preocupar com as variáveis de bias, em breve você verá que o tensorFlow cuidará disto. Note também que você deve inicializar apenas os filtros/pesos das camadas CONV. O tensorFlow incializa as camadas da parte totalmente conectada automaticamente. Falaremos mais sobre isto ainda nesta tarefa. \n",
    "\n",
    "**Exercício:** Implemente initialize_parameters(). As dimensões para cada grupo de filtros são dadas abaixo. Lembre-se, para inicializar um parâmetro $W$ no formato [1,2,3,4] em Tensorflow, use:\n",
    "```python\n",
    "W = tf.get_variable(\"W\", [1,2,3,4], initializer = ...)\n",
    "```\n",
    "[mais info](https://www.tensorflow.org/api_docs/python/tf/get_variable)."
   ]
  },
  {
   "cell_type": "code",
   "execution_count": 22,
   "metadata": {},
   "outputs": [],
   "source": [
    "# FUNÇÃO DE AVALIAÇÃO: initialize_parameters\n",
    "\n",
    "def initialize_parameters():\n",
    "    \"\"\"\n",
    "    Inicializa os filtros/pesos para construir uma convNet com tensorflow. Os formatos são:\n",
    "                        W1 : [4, 4, 3, 8]\n",
    "                        W2 : [2, 2, 8, 16]\n",
    "    Retorna:\n",
    "    parameters -- um dicionário python de tensores contendo W1 e W2\n",
    "    \"\"\"\n",
    "    \n",
    "    tf.set_random_seed(1)                              # usado para manter consistência nos dados\n",
    "        \n",
    "    ### INICIE O SEU CÓDIGO AQUI ### (aprox. 2 linhas)\n",
    "    W1 = tf.get_variable(\"W1\",[4,4,3,8], initializer=tf.contrib.layers.xavier_initializer(seed=0))\n",
    "    W2 = tf.get_variable(\"W2\",[2,2,8,16], initializer=tf.contrib.layers.xavier_initializer(seed=0))\n",
    "    ### TÉRMINO DO CÓDIGO ###\n",
    "\n",
    "    parameters = {\"W1\": W1,\n",
    "                  \"W2\": W2}\n",
    "    \n",
    "    return parameters"
   ]
  },
  {
   "cell_type": "code",
   "execution_count": 23,
   "metadata": {},
   "outputs": [
    {
     "name": "stdout",
     "output_type": "stream",
     "text": [
      "W1 = [ 0.00131723  0.1417614  -0.04434952  0.09197326  0.14984085 -0.03514394\n",
      " -0.06847463  0.05245192]\n",
      "W2 = [-0.08566415  0.17750949  0.11974221  0.16773748 -0.0830943  -0.08058\n",
      " -0.00577033 -0.14643836  0.24162132 -0.05857408 -0.19055021  0.1345228\n",
      " -0.22779644 -0.1601823  -0.16117483 -0.10286498]\n"
     ]
    }
   ],
   "source": [
    "tf.reset_default_graph()\n",
    "with tf.Session() as sess_test:\n",
    "    parameters = initialize_parameters()\n",
    "    init = tf.global_variables_initializer()\n",
    "    sess_test.run(init)\n",
    "    print(\"W1 = \" + str(parameters[\"W1\"].eval()[1,1,1]))\n",
    "    print(\"W2 = \" + str(parameters[\"W2\"].eval()[1,1,1]))"
   ]
  },
  {
   "cell_type": "markdown",
   "metadata": {},
   "source": [
    "** Saída esperada:**\n",
    "\n",
    "<table> \n",
    "\n",
    "    <tr>\n",
    "        <td>\n",
    "        W1 = \n",
    "        </td>\n",
    "        <td>\n",
    "[ 0.00131723  0.14176141 -0.04434952  0.09197326  0.14984085 -0.03514394 <br>\n",
    " -0.06847463  0.05245192]\n",
    "        </td>\n",
    "    </tr>\n",
    "\n",
    "    <tr>\n",
    "        <td>\n",
    "        W2 = \n",
    "        </td>\n",
    "        <td>\n",
    "[-0.08566415  0.17750949  0.11974221  0.16773748 -0.0830943  -0.08058 <br>\n",
    " -0.00577033 -0.14643836  0.24162132 -0.05857408 -0.19055021  0.1345228 <br>\n",
    " -0.22779644 -0.1601823  -0.16117483 -0.10286498]\n",
    "        </td>\n",
    "    </tr>\n",
    "\n",
    "</table>"
   ]
  },
  {
   "cell_type": "markdown",
   "metadata": {},
   "source": [
    "### 1.2 - Propagação para frente\n",
    "\n",
    "Em TensorFlow, existem funçòes prontas que executam os passos da convolução.\n",
    "\n",
    "- **tf.nn.conv2d(X,W1, strides = [1,s,s,1], padding = 'SAME'):** a entrada $X$ e um grupo de filtros $W1$, esta função faz a convolução do filtro $W1$ sobre X. A terceira entrada ([1,s,s,1]) representa o valor de stride para cada dimensão da entrada (m, n_H_prev, n_W_prev, n_C_prev). Você pode ler a documentação completa desta função [aqui](https://www.tensorflow.org/api_docs/python/tf/nn/conv2d)\n",
    "\n",
    "- **tf.nn.max_pool(A, ksize = [1,f,f,1], strides = [1,s,s,1], padding = 'SAME'):** dada uma entrada A, esta função utiliza uma janela de tamanho (f, f) e stride = (s, s) para executar o max pooling em cada janela. Você pode ler a documentação completa desta função [aqui](https://www.tensorflow.org/api_docs/python/tf/nn/max_pool)\n",
    "\n",
    "- **tf.nn.relu(Z1):** computa o valor de ReLU de Z1 elemento a elemento (que pode estar em qualquer formato). Você pode ler a documentação completa desta função [aqui.](https://www.tensorflow.org/api_docs/python/tf/nn/relu)\n",
    "\n",
    "- **tf.contrib.layers.flatten(P)**: dada uma entrada P, esta função coverte P em um vetor de 1D mantendo o tamanho do batch. Ela retorna um tensor vetorizado no formato [batch_size, k]. Você pode ler a documentação completa desta função [aqui.](https://www.tensorflow.org/api_docs/python/tf/contrib/layers/flatten)\n",
    "\n",
    "- **tf.contrib.layers.fully_connected(F, num_outputs):** dado um vetor de entrada F, esta função retorna a saída de uma camada totalmente conectada. Você pode ler a documentação completa desta função [aqui.](https://www.tensorflow.org/api_docs/python/tf/contrib/layers/fully_connected)\n",
    "\n",
    "Na última função acima (`tf.contrib.layers.fully_connected`), a camada totalmente conectada inicializa os pesos no grafo de computação automaticamente, e mantém os pesos atualizados conforme o modelo é treinado. Portanto, você não precisa se preocupar com a inicialização destes parâmetros. \n",
    "\n",
    "\n",
    "**Exercício**: \n",
    "\n",
    "Implemente a função `forward_propagation` abaixo para o modelo: `CONV2D -> RELU -> MAXPOOL -> CONV2D -> RELU -> MAXPOOL -> FLATTEN -> FULLYCONNECTED`. Você deve usar as funções descritas acima. \n",
    "\n",
    "Em detalhes, utilize os seguintes conjuntos de parâmetros para todos os passos do modelo:\n",
    "     - Conv2D: stride = 1, padding = \"SAME\"\n",
    "     - ReLU\n",
    "     - Max pool: filtro = 8x8, stride = 8, padding = \"SAME\"\n",
    "     - Conv2D: stride = 1, padding = \"SAME\"\n",
    "     - ReLU\n",
    "     - Max pool: filtro = 4x4, stride = 4, padding = \"SAME\"\n",
    "     - Vetorize a saída anterior.\n",
    "     - camada FULLYCONNECTED (FC): aplique uma camada totalmente conectada sem uma função de ativação não-linear. Não chame o softmax aqui. Isto irá resultar em 6 neurônios na camada de saída, que será passada para o softmax. Em tensorFlow a softmax e o custo funcionam juntos em uma única função, que será chamada quando o custo for computado.  "
   ]
  },
  {
   "cell_type": "code",
   "execution_count": 26,
   "metadata": {},
   "outputs": [],
   "source": [
    "# FUNÇÃO DE AVALIAÇÃO: forward_propagation\n",
    "\n",
    "def forward_propagation(X, parameters):\n",
    "    \"\"\"\n",
    "    Implementa a propagação para frente do modelo:\n",
    "    CONV2D -> RELU -> MAXPOOL -> CONV2D -> RELU -> MAXPOOL -> FLATTEN -> FULLYCONNECTED\n",
    "    \n",
    "    Argumentos:\n",
    "    X -- o placeholder dos dados de entrada, no formato (tamanho da entrada, número de exemplos)\n",
    "    parameters -- dicionário python contendo os parâmetros \"W1\"e \"W2\"\n",
    "                  os formatos dos parâmetros são dados pela função initialize_parameters\n",
    "\n",
    "    Retorna:\n",
    "    Z3 -- a saída da última unidade LINEAR.\n",
    "    \"\"\"\n",
    "    \n",
    "    # Recupera os parâmetros do dicionário \"parameters\" \n",
    "    W1 = parameters['W1']\n",
    "    W2 = parameters['W2']\n",
    "    \n",
    "    ### INICIE O SEU CÓDIGO AQUI ###\n",
    "    # CONV2D: filtro = W1, stride = 1, padding = 'SAME'\n",
    "    Z1 = tf.nn.conv2d(X,W1,strides=[1,1,1,1],padding='SAME')\n",
    "    # RELU\n",
    "    A1 = tf.nn.relu(Z1)\n",
    "    # MAXPOOL: janela = 8x8, stride = 8, padding = 'SAME'\n",
    "    P1 = tf.nn.max_pool(A1,ksize=[1,8,8,1], strides=[1,8,8,1],padding='SAME')\n",
    "    # CONV2D: filtro W2, stride = 1, padding = 'SAME'\n",
    "    Z2 = tf.nn.conv2d(P1,W2,strides=[1,1,1,1],padding='SAME')\n",
    "    # RELU\n",
    "    A2 = tf.nn.relu(Z2)\n",
    "    # MAXPOOL: janela = 4x4, stride = 4, padding = 'SAME'\n",
    "    P2 = tf.nn.max_pool(A2,ksize=[1,4,4,1], strides=[1,4,4,1],padding='SAME')\n",
    "    # Vetorizando a saída\n",
    "    P2 = tf.contrib.layers.flatten(P2)\n",
    "    # FULLY-CONNECTED sem uma função de ativação não-linear (não chama a softmax).\n",
    "    # 6 neurôni na camada de saída. Dica: um dos argumentos deve ser \"activation_fn=None\" \n",
    "    Z3 = tf.contrib.layers.fully_connected(P2,6,activation_fn=None)\n",
    "    ### TÉRMINO DO CÓDIGO AQUI ###\n",
    "\n",
    "    return Z3"
   ]
  },
  {
   "cell_type": "code",
   "execution_count": 27,
   "metadata": {},
   "outputs": [
    {
     "name": "stdout",
     "output_type": "stream",
     "text": [
      "Z3 = [[ 1.4416984  -0.24909666  5.450499   -0.2618962  -0.20669907  1.3654671 ]\n",
      " [ 1.4070846  -0.02573211  5.08928    -0.48669922 -0.40940708  1.2624859 ]]\n"
     ]
    }
   ],
   "source": [
    "tf.reset_default_graph()\n",
    "\n",
    "with tf.Session() as sess:\n",
    "    np.random.seed(1)\n",
    "    X, Y = create_placeholders(64, 64, 3, 6)\n",
    "    parameters = initialize_parameters()\n",
    "    Z3 = forward_propagation(X, parameters)\n",
    "    init = tf.global_variables_initializer()\n",
    "    sess.run(init)\n",
    "    a = sess.run(Z3, {X: np.random.randn(2,64,64,3), Y: np.random.randn(2,6)})\n",
    "    print(\"Z3 = \" + str(a))"
   ]
  },
  {
   "cell_type": "markdown",
   "metadata": {},
   "source": [
    "**Saída esperada**:\n",
    "\n",
    "<table> \n",
    "    <td> \n",
    "    Z3 =\n",
    "    </td>\n",
    "    <td>\n",
    "    [[ 1.4416984  -0.24909666  5.450499   -0.2618962  -0.20669907  1.3654671 ] <br>\n",
    " [ 1.4070846  -0.02573211  5.08928    -0.48669922 -0.40940708  1.2624859 ]]\n",
    "    </td>\n",
    "</table>"
   ]
  },
  {
   "cell_type": "markdown",
   "metadata": {},
   "source": [
    "### 1.3 - Computando custo\n",
    "\n",
    "Implemente a função compute_cost abaixo. As seguintes funçòes podem ser úteis: \n",
    "\n",
    "- **tf.nn.softmax_cross_entropy_with_logits(logits = Z3, labels = Y):** determina a perda por entropia da softmax. A função faz as duas coisas, a ativação da softmax e também  determina a perda resultante. Veja a documentação completa da função [aqui.](https://www.tensorflow.org/api_docs/python/tf/nn/softmax_cross_entropy_with_logits)\n",
    "- **tf.reduce_mean:** computa a média dos elementos sobre todas as dimensões de um tensor. Utiliza esta soma para determinar a perda sobre todos os exemplos e obter o custo total. Veja a documentação completa da função [aqui.](https://www.tensorflow.org/api_docs/python/tf/reduce_mean)\n",
    "\n",
    "** Exercício**: Compute o custo abaixo utilizando as funções acima."
   ]
  },
  {
   "cell_type": "code",
   "execution_count": 28,
   "metadata": {},
   "outputs": [],
   "source": [
    "# FUNÇÃO DE AVALIAÇÃO: compute_cost \n",
    "\n",
    "def compute_cost(Z3, Y):\n",
    "    \"\"\"\n",
    "    Computa o custo.\n",
    "    \n",
    "    Argumentos:\n",
    "    Z3 -- saída da propagação para frente (saída da última unidade linear), no formato (6, número de exmplos)\n",
    "    Y -- vetor de rótulos verdadeiros do placeholder, mesmo formato que Z3\n",
    "    \n",
    "    Retorna:\n",
    "    cost - Tensor da função custo\n",
    "    \"\"\"\n",
    "    \n",
    "    ### INICIE O SEU CÓDIGO AQUI ### (1 linha de código)\n",
    "    cost = tf.reduce_mean(tf.nn.softmax_cross_entropy_with_logits(logits=Z3,labels=Y))\n",
    "    ### TÉRMINO DO CÓDIGO ###\n",
    "    \n",
    "    return cost"
   ]
  },
  {
   "cell_type": "code",
   "execution_count": 29,
   "metadata": {},
   "outputs": [
    {
     "name": "stdout",
     "output_type": "stream",
     "text": [
      "cost = 4.6648693\n"
     ]
    }
   ],
   "source": [
    "tf.reset_default_graph()\n",
    "\n",
    "with tf.Session() as sess:\n",
    "    np.random.seed(1)\n",
    "    X, Y = create_placeholders(64, 64, 3, 6)\n",
    "    parameters = initialize_parameters()\n",
    "    Z3 = forward_propagation(X, parameters)\n",
    "    cost = compute_cost(Z3, Y)\n",
    "    init = tf.global_variables_initializer()\n",
    "    sess.run(init)\n",
    "    a = sess.run(cost, {X: np.random.randn(4,64,64,3), Y: np.random.randn(4,6)})\n",
    "    print(\"cost = \" + str(a))"
   ]
  },
  {
   "cell_type": "markdown",
   "metadata": {},
   "source": [
    "**Saída esperada**: \n",
    "\n",
    "<table>\n",
    "    <td> \n",
    "    cost =\n",
    "    </td> \n",
    "    \n",
    "    <td> \n",
    "    4.6648693\n",
    "    </td> \n",
    "</table>"
   ]
  },
  {
   "cell_type": "markdown",
   "metadata": {},
   "source": [
    "## 1.4 Modelo\n",
    "\n",
    "Finalmente vamos juntar as funções auxiliares implementadas acima para construir um modelo. O modelo será treinado na base de dados SIGNS.  \n",
    "\n",
    "Já implementamos, na parte anterior do curso, a função `random_mini_batches()`. Lembre-se de que esta função retorna uma lista de mini-batches. \n",
    "\n",
    "**Exercício**: Complete a função abaixo. \n",
    "\n",
    "O modelo deverá:\n",
    "\n",
    "- criar os placeholders\n",
    "- inicializar os parâmetros\n",
    "- fazer a propagação para frente\n",
    "- computar o custo\n",
    "- criar um otimizador\n",
    "\n",
    "Vamos criar uma sessão e executar um loop por num_epochs, obter os mini-batches e, então, otimizar a função para cada mini-batch. [Dica para inicializar as variáveis](https://www.tensorflow.org/api_docs/python/tf/global_variables_initializer)"
   ]
  },
  {
   "cell_type": "code",
   "execution_count": 1,
   "metadata": {},
   "outputs": [],
   "source": [
    "# FUNÇÃO DE AVALIAÇÃO: model\n",
    "\n",
    "def model(X_train, Y_train, X_test, Y_test, learning_rate = 0.0001,\n",
    "          num_epochs = 3000, minibatch_size = 64, print_cost = True):\n",
    "    \"\"\"\n",
    "    Implementa uma convNet de três camadas usando:\n",
    "    CONV2D -> RELU -> MAXPOOL -> CONV2D -> RELU -> MAXPOOL -> FLATTEN -> FULLYCONNECTED\n",
    "    \n",
    "    Argumentos:\n",
    "    X_train -- conjunto de treinamento, no formato (None, 64, 64, 3)\n",
    "    Y_train -- saídas do conjunto de treinamento, no formato (None, n_y = 6)\n",
    "    X_test -- conjunto de teste, no formato (None, 64, 64, 3)\n",
    "    Y_test -- saídas do conjunto de teste, no formato (None, n_y = 6)\n",
    "    learning_rate -- taxa de aprendizado da otimização\n",
    "    num_epochs -- númerode épocas do loop de otimização\n",
    "    minibatch_size -- tamanho do mini-batch\n",
    "    print_cost -- Se verdade imprime o custo a cada 100 épocas\n",
    "    \n",
    "    Retorna:\n",
    "    train_accuracy -- número real que indica a precisão no conjunto de treinamento (X_train)\n",
    "    test_accuracy -- número real que indica a precisão no conjunto de teste (X_test)\n",
    "    parameters -- parâmetros aprendidos pelo modelo. Podem ser utilizados para previsão.\n",
    "    \"\"\"\n",
    "    \n",
    "    ops.reset_default_graph()                         # para poder rodar o modelo várias vezes sem sobrescrever variáveis do tf\n",
    "    tf.set_random_seed(1)                             # para manter os resultados consistentes (semente do tensorflow)\n",
    "    seed = 3                                          # para manter os resultados consistentes (semente do numpy)\n",
    "    (m, n_H0, n_W0, n_C0) = X_train.shape             \n",
    "    n_y = Y_train.shape[1]                            \n",
    "    costs = []                                        # para armazenar os valores do custo\n",
    "    \n",
    "    # Criar Placeholders com os formatos corretos\n",
    "    ### INÍCIO DO CÓDIGO ### (1 linha)\n",
    "    X, Y = create_placeholders(n_H0, n_W0, n_C0, n_y)\n",
    "    ### TÉRMINO DO CÓDIGO ###\n",
    "\n",
    "    # Inicializa os parâmetros\n",
    "    ### INÍCIO DO CÓDIGO ### (1 linha)\n",
    "    parameters = initialize_parameters()\n",
    "    ### TÉRMINO DO CÓDIGO ###\n",
    "    \n",
    "    # Propagação para frente: Construa a propagação para frente no grafo de computação do tensorFlow\n",
    "    ### INÍCIO DO CÓDIGO ### (1 linha)\n",
    "    Z3 = forward_propagation(X, parameters)\n",
    "    ### TÉRMINO DO CÓDIGO ###\n",
    "    \n",
    "    # Função de custo: Adicione a função de custo ao grafo de computação do tensorFlow\n",
    "    ### INÍCIO DO CÓDIGO ### (1 linha)\n",
    "    cost = compute_cost(Z3, Y)\n",
    "    ### TÉRMINO DO CÓDIGO ###\n",
    "    \n",
    "    # Propagação para trás: Defina o otimizador a ser utilizado no tensorFlow. Use o AdamOptimizer para minimizar o custo.\n",
    "    ### INÍCIO DO CÓDIGO ### (1 linha)\n",
    "    optimizer = tf.train.AdamOptimizer(learning_rate).minimize(cost)\n",
    "    ### TÉRMINO DO CÓDIGO ###\n",
    "    \n",
    "    # Inicialize todas as variáveis globalmente\n",
    "    init = tf.global_variables_initializer()\n",
    "     \n",
    "    # Inicie a sessão para computar  grafo do tensorFlow\n",
    "    with tf.Session() as sess:\n",
    "        \n",
    "        # Executa  inicialização\n",
    "        sess.run(init)\n",
    "        \n",
    "        # Faz o loop de treinamento\n",
    "        for epoch in range(num_epochs):\n",
    "\n",
    "            minibatch_cost = 0.\n",
    "            # número de minibatches de tamanho minibatch_size no conjunto de treinamento\n",
    "            num_minibatches = int(m / minibatch_size) \n",
    "            seed = seed + 1\n",
    "            minibatches = random_mini_batches(X_train, Y_train, minibatch_size, seed)\n",
    "\n",
    "            for minibatch in minibatches:\n",
    "\n",
    "                # Seleciona um minibatch\n",
    "                (minibatch_X, minibatch_Y) = minibatch\n",
    "                # IMPORTANTE: A linha que executa o grafo de computação em um minibatch.\n",
    "                # Execute a sessão para otimizar o custo, o feed_dict deve conter um minibatch para (X,Y).\n",
    "                ### INÍCIO DO CÓDIGO ### (1 linha)\n",
    "                _ , temp_cost = sess.run((optimizer,cost),feed_dict={X:minibatch_X,Y:minibatch_Y})\n",
    "                ### TÉRMINO DO CÓDIGO ###\n",
    "                \n",
    "                minibatch_cost += temp_cost / num_minibatches\n",
    "                \n",
    "\n",
    "            # Imprime o custo a cada 100 épocas.\n",
    "            if print_cost == True and epoch % 100 == 0:\n",
    "                print (\"Custo após a época %i: %f\" % (epoch, minibatch_cost))\n",
    "            if print_cost == True and epoch % 1 == 0:\n",
    "                costs.append(minibatch_cost)\n",
    "        \n",
    "        \n",
    "        # plota o custo\n",
    "        plt.plot(np.squeeze(costs))\n",
    "        plt.ylabel('custo')\n",
    "        plt.xlabel('interações (por dez)')\n",
    "        plt.title(\"taxa de aprendizado =\" + str(learning_rate))\n",
    "        plt.show()\n",
    "\n",
    "        # Calcula as predições corretas\n",
    "        predict_op = tf.argmax(Z3, 1)\n",
    "        correct_prediction = tf.equal(predict_op, tf.argmax(Y, 1))\n",
    "        \n",
    "        # Calcula a precisão no conjunto de teste\n",
    "        accuracy = tf.reduce_mean(tf.cast(correct_prediction, \"float\"))\n",
    "        print(accuracy)\n",
    "        train_accuracy = accuracy.eval({X: X_train, Y: Y_train})\n",
    "        test_accuracy = accuracy.eval({X: X_test, Y: Y_test})\n",
    "        print(\"Precisão no treinamento:\", train_accuracy)\n",
    "        print(\"Precisão no teste:\", test_accuracy)\n",
    "                \n",
    "        return train_accuracy, test_accuracy, parameters"
   ]
  },
  {
   "cell_type": "markdown",
   "metadata": {},
   "source": [
    "Execute a célula abaixo para treinar seu modelo por 3000 épocas. Verifique se o custo após a época 0 e 100 estão próximos. Senão estiverem interrompa o processamento e verifique o seu código! \n",
    "\n",
    "O processo de treinamento é demorado. Pode ir tomar um café."
   ]
  },
  {
   "cell_type": "code",
   "execution_count": 31,
   "metadata": {},
   "outputs": [
    {
     "name": "stdout",
     "output_type": "stream",
     "text": [
      "Cost after epoch 0: 2.086161\n",
      "Cost after epoch 25: 1.897254\n",
      "Cost after epoch 50: 1.886272\n",
      "Cost after epoch 75: 1.874159\n",
      "Cost after epoch 100: 1.855311\n",
      "Cost after epoch 125: 1.826941\n",
      "Cost after epoch 150: 1.782121\n",
      "Cost after epoch 175: 1.703277\n",
      "Cost after epoch 200: 1.610244\n",
      "Cost after epoch 225: 1.514937\n",
      "Cost after epoch 250: 1.418972\n",
      "Cost after epoch 275: 1.334423\n",
      "Cost after epoch 300: 1.257404\n",
      "Cost after epoch 325: 1.187452\n",
      "Cost after epoch 350: 1.128282\n",
      "Cost after epoch 375: 1.078407\n",
      "Cost after epoch 400: 1.030332\n",
      "Cost after epoch 425: 0.990327\n",
      "Cost after epoch 450: 0.952890\n",
      "Cost after epoch 475: 0.921276\n",
      "Cost after epoch 500: 0.887955\n",
      "Cost after epoch 525: 0.859908\n",
      "Cost after epoch 550: 0.835317\n",
      "Cost after epoch 575: 0.809763\n",
      "Cost after epoch 600: 0.785459\n",
      "Cost after epoch 625: 0.760964\n",
      "Cost after epoch 650: 0.736794\n",
      "Cost after epoch 675: 0.713237\n",
      "Cost after epoch 700: 0.693214\n",
      "Cost after epoch 725: 0.674748\n",
      "Cost after epoch 750: 0.654796\n",
      "Cost after epoch 775: 0.637972\n",
      "Cost after epoch 800: 0.620345\n",
      "Cost after epoch 825: 0.605181\n",
      "Cost after epoch 850: 0.590861\n",
      "Cost after epoch 875: 0.573715\n",
      "Cost after epoch 900: 0.561013\n",
      "Cost after epoch 925: 0.548601\n",
      "Cost after epoch 950: 0.539636\n",
      "Cost after epoch 975: 0.524694\n",
      "Cost after epoch 1000: 0.514347\n",
      "Cost after epoch 1025: 0.502813\n",
      "Cost after epoch 1050: 0.494950\n",
      "Cost after epoch 1075: 0.482968\n",
      "Cost after epoch 1100: 0.477122\n",
      "Cost after epoch 1125: 0.466803\n",
      "Cost after epoch 1150: 0.457815\n",
      "Cost after epoch 1175: 0.448715\n",
      "Cost after epoch 1200: 0.441516\n",
      "Cost after epoch 1225: 0.434521\n",
      "Cost after epoch 1250: 0.425646\n",
      "Cost after epoch 1275: 0.418360\n",
      "Cost after epoch 1300: 0.412905\n",
      "Cost after epoch 1325: 0.403779\n",
      "Cost after epoch 1350: 0.397681\n",
      "Cost after epoch 1375: 0.389701\n",
      "Cost after epoch 1400: 0.385516\n",
      "Cost after epoch 1425: 0.377050\n",
      "Cost after epoch 1450: 0.370395\n",
      "Cost after epoch 1475: 0.364690\n",
      "Cost after epoch 1500: 0.358505\n",
      "Cost after epoch 1525: 0.351613\n",
      "Cost after epoch 1550: 0.347002\n",
      "Cost after epoch 1575: 0.340271\n",
      "Cost after epoch 1600: 0.334793\n",
      "Cost after epoch 1625: 0.330948\n",
      "Cost after epoch 1650: 0.324078\n",
      "Cost after epoch 1675: 0.318448\n",
      "Cost after epoch 1700: 0.314063\n",
      "Cost after epoch 1725: 0.309293\n",
      "Cost after epoch 1750: 0.301141\n",
      "Cost after epoch 1775: 0.297064\n",
      "Cost after epoch 1800: 0.290814\n",
      "Cost after epoch 1825: 0.286355\n",
      "Cost after epoch 1850: 0.284079\n",
      "Cost after epoch 1875: 0.278361\n",
      "Cost after epoch 1900: 0.275858\n",
      "Cost after epoch 1925: 0.270548\n",
      "Cost after epoch 1950: 0.265674\n",
      "Cost after epoch 1975: 0.260448\n",
      "Cost after epoch 2000: 0.255994\n",
      "Cost after epoch 2025: 0.252006\n",
      "Cost after epoch 2050: 0.247994\n",
      "Cost after epoch 2075: 0.243421\n",
      "Cost after epoch 2100: 0.240413\n",
      "Cost after epoch 2125: 0.236107\n",
      "Cost after epoch 2150: 0.233863\n",
      "Cost after epoch 2175: 0.230390\n",
      "Cost after epoch 2200: 0.224933\n",
      "Cost after epoch 2225: 0.221046\n",
      "Cost after epoch 2250: 0.219486\n",
      "Cost after epoch 2275: 0.215301\n",
      "Cost after epoch 2300: 0.211057\n",
      "Cost after epoch 2325: 0.207433\n",
      "Cost after epoch 2350: 0.205398\n",
      "Cost after epoch 2375: 0.202634\n",
      "Cost after epoch 2400: 0.199362\n",
      "Cost after epoch 2425: 0.195883\n",
      "Cost after epoch 2450: 0.192873\n",
      "Cost after epoch 2475: 0.188116\n",
      "Cost after epoch 2500: 0.186438\n",
      "Cost after epoch 2525: 0.182605\n",
      "Cost after epoch 2550: 0.180372\n",
      "Cost after epoch 2575: 0.178911\n",
      "Cost after epoch 2600: 0.174693\n",
      "Cost after epoch 2625: 0.171659\n",
      "Cost after epoch 2650: 0.169249\n",
      "Cost after epoch 2675: 0.165321\n",
      "Cost after epoch 2700: 0.164006\n",
      "Cost after epoch 2725: 0.161357\n",
      "Cost after epoch 2750: 0.158735\n",
      "Cost after epoch 2775: 0.156207\n",
      "Cost after epoch 2800: 0.153351\n",
      "Cost after epoch 2825: 0.151151\n",
      "Cost after epoch 2850: 0.147605\n",
      "Cost after epoch 2875: 0.145434\n",
      "Cost after epoch 2900: 0.143021\n",
      "Cost after epoch 2925: 0.142436\n",
      "Cost after epoch 2950: 0.140551\n",
      "Cost after epoch 2975: 0.135499\n"
     ]
    },
    {
     "data": {
      "image/png": "[encoded data removed]",
      "text/plain": [
       "<Figure size 432x288 with 1 Axes>"
      ]
     },
     "metadata": {},
     "output_type": "display_data"
    },
    {
     "name": "stdout",
     "output_type": "stream",
     "text": [
      "Tensor(\"Mean_1:0\", shape=(), dtype=float32)\n",
      "Train Accuracy: 0.9675926\n",
      "Test Accuracy: 0.9\n"
     ]
    }
   ],
   "source": [
    "_, _, parameters = model(X_train, Y_train, X_test, Y_test)"
   ]
  },
  {
   "cell_type": "markdown",
   "metadata": {},
   "source": [
    "**Saída esperada**: os seus resultados podem não bater com estes perfeitamente, mas devem estar próximos e a função de custo deve decrescer. \n",
    "<table> \n",
    "<tr>\n",
    "    <td> \n",
    "    **Custo após a época 0 =**\n",
    "    </td>\n",
    "\n",
    "    <td> \n",
    "      2.086161\n",
    "    </td> \n",
    "</tr>\n",
    "<tr>\n",
    "    <td> \n",
    "    **Custo após a época 100 =**\n",
    "    </td>\n",
    "\n",
    "    <td> \n",
    "      1.855311\n",
    "    </td> \n",
    "</tr>\n",
    "<tr>\n",
    "    <td> \n",
    "    **Precisão no treinamento  =**\n",
    "    </td>\n",
    "\n",
    "    <td> \n",
    "      0.9675926\n",
    "    </td> \n",
    "</tr> \n",
    "\n",
    "<tr>\n",
    "    <td> \n",
    "    **Precisão no teste   =**\n",
    "    </td>\n",
    "\n",
    "    <td> \n",
    "      0.9\n",
    "    </td> \n",
    "</tr> \n",
    "</table>"
   ]
  },
  {
   "cell_type": "markdown",
   "metadata": {},
   "source": [
    "Parabéns! Você terminou a tarefa e construiu um modelo que reconhece sinais da base de dados SIGN com uma precisão de 90% no conjunto de teste. Se você quiser, brinque com os parâmetros. Note que o resultado obtido foi superior ao resultado da rede totalmente conectada feito anteriormente com esta mesma base de dados. "
   ]
  },
  {
   "cell_type": "code",
   "execution_count": 6,
   "metadata": {},
   "outputs": [
    {
     "name": "stderr",
     "output_type": "stream",
     "text": [
      "C:\\ProgramData\\Anaconda3\\lib\\site-packages\\ipykernel_launcher.py:2: DeprecationWarning: `imread` is deprecated!\n",
      "`imread` is deprecated in SciPy 1.0.0.\n",
      "Use ``matplotlib.pyplot.imread`` instead.\n",
      "  \n",
      "C:\\ProgramData\\Anaconda3\\lib\\site-packages\\ipykernel_launcher.py:3: DeprecationWarning: `imresize` is deprecated!\n",
      "`imresize` is deprecated in SciPy 1.0.0, and will be removed in 1.2.0.\n",
      "Use ``skimage.transform.resize`` instead.\n",
      "  This is separate from the ipykernel package so we can avoid doing imports until\n"
     ]
    },
    {
     "data": {
      "text/plain": [
       "<matplotlib.image.AxesImage at 0x1c74aad0940>"
      ]
     },
     "execution_count": 6,
     "metadata": {},
     "output_type": "execute_result"
    },
    {
     "data": {
      "image/png": "[encoded data removed]",
      "text/plain": [
       "<Figure size 432x288 with 1 Axes>"
      ]
     },
     "metadata": {},
     "output_type": "display_data"
    }
   ],
   "source": [
    "fname = \"images/thumbs_up.jpg\"\n",
    "image = np.array(ndimage.imread(fname, flatten=False))\n",
    "my_image = scipy.misc.imresize(image, size=(64,64))\n",
    "plt.imshow(my_image)"
   ]
  },
  {
   "cell_type": "code",
   "execution_count": null,
   "metadata": {},
   "outputs": [],
   "source": []
  }
 ],
 "metadata": {
  "coursera": {
   "course_slug": "convolutional-neural-networks",
   "graded_item_id": "bwbJV",
   "launcher_item_id": "0TkXB"
  },
  "kernelspec": {
   "display_name": "Python 3",
   "language": "python",
   "name": "python3"
  },
  "language_info": {
   "codemirror_mode": {
    "name": "ipython",
    "version": 3
   },
   "file_extension": ".py",
   "mimetype": "text/x-python",
   "name": "python",
   "nbconvert_exporter": "python",
   "pygments_lexer": "ipython3",
   "version": "3.6.5"
  }
 },
 "nbformat": 4,
 "nbformat_minor": 1
}
